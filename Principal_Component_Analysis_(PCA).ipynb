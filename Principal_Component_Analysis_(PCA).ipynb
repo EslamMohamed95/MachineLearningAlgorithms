{
 "cells": [
  {
   "cell_type": "markdown",
   "source": [
    "# Comprehensive Guide on Principal Component Analysis (PCA)\n"
   ],
   "metadata": {
    "id": "toh1b1YFUhyC",
    "pycharm": {
     "name": "#%% md\n"
    }
   }
  },
  {
   "cell_type": "code",
   "execution_count": 1,
   "metadata": {
    "id": "VPDkDmqiiS19",
    "pycharm": {
     "name": "#%%\n"
    }
   },
   "outputs": [],
   "source": [
    "import numpy as np\n",
    "import pandas as pd\n",
    "import matplotlib.pyplot as plt\n",
    "plt.style.use('seaborn-whitegrid')\n",
    "plt.style.use('seaborn')"
   ]
  },
  {
   "cell_type": "markdown",
   "metadata": {
    "id": "6X7__jBXiS1_",
    "pycharm": {
     "name": "#%% md\n"
    }
   },
   "source": [
    "In this notebook, we will perform PCA on the following two features:"
   ]
  },
  {
   "cell_type": "code",
   "execution_count": 2,
   "metadata": {
    "colab": {
     "base_uri": "https://localhost:8080/",
     "height": 215
    },
    "id": "1UMHniopiS2A",
    "outputId": "35939226-3454-4431-d846-114e985fbb28",
    "pycharm": {
     "name": "#%%\n"
    }
   },
   "outputs": [
    {
     "output_type": "execute_result",
     "data": {
      "text/plain": [
       "   x1  x2\n",
       "0   9   7\n",
       "1   7   5\n",
       "2   3   7\n",
       "3   5   6\n",
       "4   2   3"
      ],
      "text/html": [
       "\n",
       "  <div id=\"df-618e5dde-fec0-4b57-8cd8-1090b879f4e0\">\n",
       "    <div class=\"colab-df-container\">\n",
       "      <div>\n",
       "<style scoped>\n",
       "    .dataframe tbody tr th:only-of-type {\n",
       "        vertical-align: middle;\n",
       "    }\n",
       "\n",
       "    .dataframe tbody tr th {\n",
       "        vertical-align: top;\n",
       "    }\n",
       "\n",
       "    .dataframe thead th {\n",
       "        text-align: right;\n",
       "    }\n",
       "</style>\n",
       "<table border=\"1\" class=\"dataframe\">\n",
       "  <thead>\n",
       "    <tr style=\"text-align: right;\">\n",
       "      <th></th>\n",
       "      <th>x1</th>\n",
       "      <th>x2</th>\n",
       "    </tr>\n",
       "  </thead>\n",
       "  <tbody>\n",
       "    <tr>\n",
       "      <th>0</th>\n",
       "      <td>9</td>\n",
       "      <td>7</td>\n",
       "    </tr>\n",
       "    <tr>\n",
       "      <th>1</th>\n",
       "      <td>7</td>\n",
       "      <td>5</td>\n",
       "    </tr>\n",
       "    <tr>\n",
       "      <th>2</th>\n",
       "      <td>3</td>\n",
       "      <td>7</td>\n",
       "    </tr>\n",
       "    <tr>\n",
       "      <th>3</th>\n",
       "      <td>5</td>\n",
       "      <td>6</td>\n",
       "    </tr>\n",
       "    <tr>\n",
       "      <th>4</th>\n",
       "      <td>2</td>\n",
       "      <td>3</td>\n",
       "    </tr>\n",
       "  </tbody>\n",
       "</table>\n",
       "</div>\n",
       "      <button class=\"colab-df-convert\" onclick=\"convertToInteractive('df-618e5dde-fec0-4b57-8cd8-1090b879f4e0')\"\n",
       "              title=\"Convert this dataframe to an interactive table.\"\n",
       "              style=\"display:none;\">\n",
       "        \n",
       "  <svg xmlns=\"http://www.w3.org/2000/svg\" height=\"24px\"viewBox=\"0 0 24 24\"\n",
       "       width=\"24px\">\n",
       "    <path d=\"M0 0h24v24H0V0z\" fill=\"none\"/>\n",
       "    <path d=\"M18.56 5.44l.94 2.06.94-2.06 2.06-.94-2.06-.94-.94-2.06-.94 2.06-2.06.94zm-11 1L8.5 8.5l.94-2.06 2.06-.94-2.06-.94L8.5 2.5l-.94 2.06-2.06.94zm10 10l.94 2.06.94-2.06 2.06-.94-2.06-.94-.94-2.06-.94 2.06-2.06.94z\"/><path d=\"M17.41 7.96l-1.37-1.37c-.4-.4-.92-.59-1.43-.59-.52 0-1.04.2-1.43.59L10.3 9.45l-7.72 7.72c-.78.78-.78 2.05 0 2.83L4 21.41c.39.39.9.59 1.41.59.51 0 1.02-.2 1.41-.59l7.78-7.78 2.81-2.81c.8-.78.8-2.07 0-2.86zM5.41 20L4 18.59l7.72-7.72 1.47 1.35L5.41 20z\"/>\n",
       "  </svg>\n",
       "      </button>\n",
       "      \n",
       "  <style>\n",
       "    .colab-df-container {\n",
       "      display:flex;\n",
       "      flex-wrap:wrap;\n",
       "      gap: 12px;\n",
       "    }\n",
       "\n",
       "    .colab-df-convert {\n",
       "      background-color: #E8F0FE;\n",
       "      border: none;\n",
       "      border-radius: 50%;\n",
       "      cursor: pointer;\n",
       "      display: none;\n",
       "      fill: #1967D2;\n",
       "      height: 32px;\n",
       "      padding: 0 0 0 0;\n",
       "      width: 32px;\n",
       "    }\n",
       "\n",
       "    .colab-df-convert:hover {\n",
       "      background-color: #E2EBFA;\n",
       "      box-shadow: 0px 1px 2px rgba(60, 64, 67, 0.3), 0px 1px 3px 1px rgba(60, 64, 67, 0.15);\n",
       "      fill: #174EA6;\n",
       "    }\n",
       "\n",
       "    [theme=dark] .colab-df-convert {\n",
       "      background-color: #3B4455;\n",
       "      fill: #D2E3FC;\n",
       "    }\n",
       "\n",
       "    [theme=dark] .colab-df-convert:hover {\n",
       "      background-color: #434B5C;\n",
       "      box-shadow: 0px 1px 3px 1px rgba(0, 0, 0, 0.15);\n",
       "      filter: drop-shadow(0px 1px 2px rgba(0, 0, 0, 0.3));\n",
       "      fill: #FFFFFF;\n",
       "    }\n",
       "  </style>\n",
       "\n",
       "      <script>\n",
       "        const buttonEl =\n",
       "          document.querySelector('#df-618e5dde-fec0-4b57-8cd8-1090b879f4e0 button.colab-df-convert');\n",
       "        buttonEl.style.display =\n",
       "          google.colab.kernel.accessAllowed ? 'block' : 'none';\n",
       "\n",
       "        async function convertToInteractive(key) {\n",
       "          const element = document.querySelector('#df-618e5dde-fec0-4b57-8cd8-1090b879f4e0');\n",
       "          const dataTable =\n",
       "            await google.colab.kernel.invokeFunction('convertToInteractive',\n",
       "                                                     [key], {});\n",
       "          if (!dataTable) return;\n",
       "\n",
       "          const docLinkHtml = 'Like what you see? Visit the ' +\n",
       "            '<a target=\"_blank\" href=https://colab.research.google.com/notebooks/data_table.ipynb>data table notebook</a>'\n",
       "            + ' to learn more about interactive tables.';\n",
       "          element.innerHTML = '';\n",
       "          dataTable['output_type'] = 'display_data';\n",
       "          await google.colab.output.renderOutput(dataTable, element);\n",
       "          const docLink = document.createElement('div');\n",
       "          docLink.innerHTML = docLinkHtml;\n",
       "          element.appendChild(docLink);\n",
       "        }\n",
       "      </script>\n",
       "    </div>\n",
       "  </div>\n",
       "  "
      ]
     },
     "metadata": {},
     "execution_count": 2
    }
   ],
   "source": [
    "df = pd.DataFrame({\"x1\":[9, 7, 3, 5, 2, 2], \"x2\":[7, 5, 7, 6, 3, 1]})\n",
    "df.head(5)"
   ]
  },
  {
   "cell_type": "code",
   "execution_count": 3,
   "metadata": {
    "colab": {
     "base_uri": "https://localhost:8080/",
     "height": 262
    },
    "id": "uo8fRRORiS2B",
    "outputId": "1147b5fe-859f-4563-cdbf-35d9026a251c",
    "pycharm": {
     "name": "#%%\n"
    }
   },
   "outputs": [
    {
     "output_type": "display_data",
     "data": {
      "text/plain": [
       "<Figure size 252x252 with 1 Axes>"
      ],
      "image/png": "[encoded data removed]"
     },
     "metadata": {
      "needs_background": "light"
     }
    }
   ],
   "source": [
    "plt.figure(figsize=(3.5,3.5))\n",
    "plt.xlim(0, 10)\n",
    "plt.ylim(0, 10)\n",
    "plt.xlabel(\"$x_1$\", fontsize=15)\n",
    "plt.ylabel(\"$x_2$\", fontsize=15)\n",
    "plt.scatter(df[\"x1\"], df[\"x2\"], label=\"original points\", zorder=5)\n",
    "plt.show()"
   ]
  },
  {
   "cell_type": "markdown",
   "metadata": {
    "id": "G4-APCXCiS2C",
    "pycharm": {
     "name": "#%% md\n"
    }
   },
   "source": [
    "# Standardizing our dataset"
   ]
  },
  {
   "cell_type": "code",
   "execution_count": 4,
   "metadata": {
    "colab": {
     "base_uri": "https://localhost:8080/"
    },
    "id": "HozIiVFNiS2C",
    "outputId": "a047b2d7-3c72-47eb-8ff1-d0b42705c1a2",
    "pycharm": {
     "name": "#%%\n"
    }
   },
   "outputs": [
    {
     "output_type": "execute_result",
     "data": {
      "text/plain": [
       "array([[ 1.65100165,  0.9883717 ],\n",
       "       [ 0.88900089,  0.07602859],\n",
       "       [-0.63500064,  0.9883717 ],\n",
       "       [ 0.12700013,  0.53220014],\n",
       "       [-1.01600102, -0.83631451],\n",
       "       [-1.01600102, -1.74865762]])"
      ]
     },
     "metadata": {},
     "execution_count": 4
    }
   ],
   "source": [
    "from sklearn.preprocessing import StandardScaler\n",
    "\n",
    "np_data = df.to_numpy()\n",
    "np_scaled_data = StandardScaler().fit_transform(np_data)\n",
    "np_scaled_data"
   ]
  },
  {
   "cell_type": "code",
   "execution_count": 5,
   "metadata": {
    "id": "-BvTAJtViS2C",
    "pycharm": {
     "name": "#%%\n"
    }
   },
   "outputs": [],
   "source": [
    "z1 = np_scaled_data[:,0]\n",
    "z2 = np_scaled_data[:,1]"
   ]
  },
  {
   "cell_type": "code",
   "execution_count": 6,
   "metadata": {
    "colab": {
     "base_uri": "https://localhost:8080/",
     "height": 262
    },
    "id": "DQZnD6P_iS2D",
    "outputId": "a6644a74-0571-4486-dd68-9f47a4d8191c",
    "pycharm": {
     "name": "#%%\n"
    }
   },
   "outputs": [
    {
     "output_type": "display_data",
     "data": {
      "text/plain": [
       "<Figure size 252x252 with 1 Axes>"
      ],
      "image/png": "[encoded data removed]"
     },
     "metadata": {
      "needs_background": "light"
     }
    }
   ],
   "source": [
    "plt.figure(figsize=(3.5,3.5))\n",
    "plt.xlim(-3, 3)\n",
    "plt.ylim(-3, 3)\n",
    "plt.xlabel(\"$z_1$\", fontsize=15)\n",
    "plt.ylabel(\"$z_2$\", fontsize=15)\n",
    "plt.axhline(0, color='lightgray')\n",
    "plt.axvline(0, color='lightgray')\n",
    "plt.scatter(z1, z2, label=\"original points\", zorder=5)\n",
    "plt.show()"
   ]
  },
  {
   "cell_type": "code",
   "execution_count": 7,
   "metadata": {
    "colab": {
     "base_uri": "https://localhost:8080/"
    },
    "id": "0CMvM5UyiS2E",
    "outputId": "ab27af2c-9b4e-42c8-d9bc-578a8ce6d4e6",
    "pycharm": {
     "name": "#%%\n"
    }
   },
   "outputs": [
    {
     "output_type": "stream",
     "name": "stdout",
     "text": [
      "1.6510016510024765\n",
      "0.9883716976506173\n"
     ]
    }
   ],
   "source": [
    "print(z1[0])\n",
    "print(z2[0])"
   ]
  },
  {
   "cell_type": "markdown",
   "metadata": {
    "id": "Krl6V-IGiS2F",
    "pycharm": {
     "name": "#%% md\n"
    }
   },
   "source": [
    "# Obtaining the variance-covariance matrix"
   ]
  },
  {
   "cell_type": "code",
   "execution_count": 8,
   "metadata": {
    "colab": {
     "base_uri": "https://localhost:8080/"
    },
    "id": "4w5qCsMxiS2F",
    "outputId": "134e973e-88af-4ccf-96fc-ffd5c97558fc",
    "pycharm": {
     "name": "#%%\n"
    }
   },
   "outputs": [
    {
     "output_type": "execute_result",
     "data": {
      "text/plain": [
       "array([[1.        , 0.62761666],\n",
       "       [0.62761666, 1.        ]])"
      ]
     },
     "metadata": {},
     "execution_count": 8
    }
   ],
   "source": [
    "cov = np.cov(z1, z2, ddof=0)\n",
    "cov"
   ]
  },
  {
   "cell_type": "markdown",
   "metadata": {
    "id": "QoBaCX-niS2G",
    "pycharm": {
     "name": "#%% md\n"
    }
   },
   "source": [
    "# Computing the eigenvalues and eigenvectors of the variance-covariance matrix"
   ]
  },
  {
   "cell_type": "code",
   "execution_count": 9,
   "metadata": {
    "colab": {
     "base_uri": "https://localhost:8080/"
    },
    "id": "u56RWjHciS2G",
    "outputId": "4ad56a33-425a-44ca-f5b4-1d1d2d7d0f52",
    "pycharm": {
     "name": "#%%\n"
    }
   },
   "outputs": [
    {
     "output_type": "execute_result",
     "data": {
      "text/plain": [
       "array([1.62761666, 0.37238334])"
      ]
     },
     "metadata": {},
     "execution_count": 9
    }
   ],
   "source": [
    "eigen_values, eigen_vectors_matrix = np.linalg.eig(cov)\n",
    "eigen_values"
   ]
  },
  {
   "cell_type": "markdown",
   "metadata": {
    "id": "cEBphSBbiS2G",
    "pycharm": {
     "name": "#%% md\n"
    }
   },
   "source": [
    "Here, the eigenvectors are the columns and not the rows:"
   ]
  },
  {
   "cell_type": "code",
   "execution_count": 10,
   "metadata": {
    "colab": {
     "base_uri": "https://localhost:8080/"
    },
    "id": "ju_JTyyPiS2H",
    "outputId": "0032a646-d473-4bf6-cd69-b9918f0f03db",
    "pycharm": {
     "name": "#%%\n"
    }
   },
   "outputs": [
    {
     "output_type": "execute_result",
     "data": {
      "text/plain": [
       "array([[ 0.70710678, -0.70710678],\n",
       "       [ 0.70710678,  0.70710678]])"
      ]
     },
     "metadata": {},
     "execution_count": 10
    }
   ],
   "source": [
    "eigen_vectors_matrix"
   ]
  },
  {
   "cell_type": "markdown",
   "metadata": {
    "id": "AvLVnNxLiS2H",
    "pycharm": {
     "name": "#%% md\n"
    }
   },
   "source": [
    "We take the transpose so that we get the eigenvectors as the rows:"
   ]
  },
  {
   "cell_type": "code",
   "execution_count": 11,
   "metadata": {
    "colab": {
     "base_uri": "https://localhost:8080/"
    },
    "id": "wJL5XusjiS2H",
    "outputId": "5ffc8a73-5e8f-4a09-b43e-4115bbe987ff",
    "pycharm": {
     "name": "#%%\n"
    }
   },
   "outputs": [
    {
     "output_type": "execute_result",
     "data": {
      "text/plain": [
       "array([[ 0.70710678,  0.70710678],\n",
       "       [-0.70710678,  0.70710678]])"
      ]
     },
     "metadata": {},
     "execution_count": 11
    }
   ],
   "source": [
    "eigen_vectors = np.transpose(eigen_vectors_matrix)\n",
    "eigen_vectors"
   ]
  },
  {
   "cell_type": "markdown",
   "metadata": {
    "id": "mMP1TK0MiS2I",
    "pycharm": {
     "name": "#%% md\n"
    }
   },
   "source": [
    "Verifying that the computed eigenvectors are unit vectors."
   ]
  },
  {
   "cell_type": "code",
   "execution_count": 12,
   "metadata": {
    "colab": {
     "base_uri": "https://localhost:8080/"
    },
    "id": "w60H307uiS2I",
    "outputId": "af35cf18-0b49-4f46-b9eb-6f9b70b4666a",
    "pycharm": {
     "name": "#%%\n"
    }
   },
   "outputs": [
    {
     "output_type": "stream",
     "name": "stdout",
     "text": [
      "1.0\n",
      "1.0\n"
     ]
    }
   ],
   "source": [
    "print(np.linalg.norm(eigen_vectors[0]))\n",
    "print(np.linalg.norm(eigen_vectors[1]))"
   ]
  },
  {
   "cell_type": "code",
   "execution_count": 13,
   "metadata": {
    "colab": {
     "base_uri": "https://localhost:8080/",
     "height": 289
    },
    "id": "YTi6QwQTiS2I",
    "outputId": "de79a10c-b1f8-43ce-e2c1-21e91005419b",
    "pycharm": {
     "name": "#%%\n"
    }
   },
   "outputs": [
    {
     "output_type": "display_data",
     "data": {
      "text/plain": [
       "<Figure size 288x288 with 1 Axes>"
      ],
      "image/png": "[encoded data removed]"
     },
     "metadata": {
      "needs_background": "light"
     }
    }
   ],
   "source": [
    "plt.figure(figsize=(4,4))\n",
    "plt.scatter(z1, z2, label=\"original points\", zorder=5)\n",
    "plt.xlim(-3,3)\n",
    "plt.ylim(-3,3)\n",
    "plt.xlabel(\"$z_1$\", fontsize=15)\n",
    "plt.ylabel(\"$z_2$\", fontsize=15)\n",
    "plt.axhline(0, color='lightgray')\n",
    "plt.axvline(0, color='lightgray')\n",
    "plt.quiver([0, 0], [0, 0], eigen_vectors[0], eigen_vectors[1], angles='xy', scale_units='xy', scale=0.01, alpha=0.2, color=\"blue\", zorder=5)\n",
    "plt.quiver([0, 0], [0, 0], -eigen_vectors[0], -eigen_vectors[1], angles='xy', scale_units='xy', scale=0.01, alpha=0.2, color=\"blue\", zorder=5)\n",
    "plt.show()"
   ]
  },
  {
   "cell_type": "markdown",
   "metadata": {
    "id": "9tWIJHkhiS2I",
    "pycharm": {
     "name": "#%% md\n"
    }
   },
   "source": [
    "# Performing projections"
   ]
  },
  {
   "cell_type": "code",
   "execution_count": 14,
   "metadata": {
    "colab": {
     "base_uri": "https://localhost:8080/"
    },
    "id": "84TUx5FdiS2I",
    "outputId": "08f17e87-e061-4fee-b5f3-a1d630df76b5",
    "pycharm": {
     "name": "#%%\n"
    }
   },
   "outputs": [
    {
     "output_type": "execute_result",
     "data": {
      "text/plain": [
       "array([[ 1.65100165,  0.9883717 ],\n",
       "       [ 0.88900089,  0.07602859],\n",
       "       [-0.63500064,  0.9883717 ],\n",
       "       [ 0.12700013,  0.53220014],\n",
       "       [-1.01600102, -0.83631451],\n",
       "       [-1.01600102, -1.74865762]])"
      ]
     },
     "metadata": {},
     "execution_count": 14
    }
   ],
   "source": [
    "Z = np.column_stack([z1, z2])\n",
    "Z"
   ]
  },
  {
   "cell_type": "code",
   "execution_count": 15,
   "metadata": {
    "colab": {
     "base_uri": "https://localhost:8080/"
    },
    "id": "yoz4U0sPiS2J",
    "outputId": "f396513b-3f6d-4b95-a41d-e0a8a0a6e140",
    "pycharm": {
     "name": "#%%\n"
    }
   },
   "outputs": [
    {
     "output_type": "execute_result",
     "data": {
      "text/plain": [
       "array([[ 0.70710678, -0.70710678],\n",
       "       [ 0.70710678,  0.70710678]])"
      ]
     },
     "metadata": {},
     "execution_count": 15
    }
   ],
   "source": [
    "W = np.transpose(eigen_vectors)\n",
    "W"
   ]
  },
  {
   "cell_type": "code",
   "execution_count": 16,
   "metadata": {
    "colab": {
     "base_uri": "https://localhost:8080/"
    },
    "id": "B_2T2VRqiS2J",
    "outputId": "5a9d1a1e-ac55-4bcb-9ba5-4cba1868534e",
    "pycharm": {
     "name": "#%%\n"
    }
   },
   "outputs": [
    {
     "output_type": "execute_result",
     "data": {
      "text/plain": [
       "array([[ 1.86631879, -0.46855013],\n",
       "       [ 0.68237889, -0.57485822],\n",
       "       [ 0.24987107,  1.14789758],\n",
       "       [ 0.46612498,  0.28651968],\n",
       "       [-1.30978487,  0.12705754],\n",
       "       [-1.95490887, -0.51806645]])"
      ]
     },
     "metadata": {},
     "execution_count": 16
    }
   ],
   "source": [
    "X_dash = np.dot(Z, W)\n",
    "X_dash"
   ]
  },
  {
   "cell_type": "code",
   "execution_count": 17,
   "metadata": {
    "colab": {
     "base_uri": "https://localhost:8080/",
     "height": 258
    },
    "id": "DHixxAQGiS2J",
    "outputId": "223f2d61-34d6-461c-cdb1-2606d94751d5",
    "pycharm": {
     "name": "#%%\n"
    }
   },
   "outputs": [
    {
     "output_type": "display_data",
     "data": {
      "text/plain": [
       "<Figure size 252x252 with 1 Axes>"
      ],
      "image/png": "[encoded data removed]"
     },
     "metadata": {
      "needs_background": "light"
     }
    }
   ],
   "source": [
    "plt.figure(figsize=(3.5,3.5))\n",
    "plt.scatter(X_dash[:,0], np.zeros_like(X_dash[:,0]), zorder=10, color='#c44e52')\n",
    "plt.axhline(0, color='blue', alpha=0.5)\n",
    "plt.xlim(-3,3)\n",
    "plt.xlabel(\"$PC1$\", fontsize=15)\n",
    "plt.show()"
   ]
  },
  {
   "cell_type": "code",
   "execution_count": 18,
   "metadata": {
    "colab": {
     "base_uri": "https://localhost:8080/",
     "height": 258
    },
    "id": "zdxpx9pziS2J",
    "outputId": "bf5190fe-ce3a-4548-d286-55fa0a36453e",
    "pycharm": {
     "name": "#%%\n"
    }
   },
   "outputs": [
    {
     "output_type": "display_data",
     "data": {
      "text/plain": [
       "<Figure size 252x252 with 1 Axes>"
      ],
      "image/png": "[encoded data removed]"
     },
     "metadata": {
      "needs_background": "light"
     }
    }
   ],
   "source": [
    "plt.figure(figsize=(3.5,3.5))\n",
    "plt.scatter(X_dash[:,1], np.zeros_like(X_dash[:,0]), zorder=10, color='#c44e52')\n",
    "plt.axhline(0, color='blue', alpha=0.5)\n",
    "plt.xlim(-3,3)\n",
    "plt.xlabel(\"$PC2$\", fontsize=15)\n",
    "plt.show()"
   ]
  },
  {
   "cell_type": "code",
   "execution_count": 19,
   "metadata": {
    "colab": {
     "base_uri": "https://localhost:8080/",
     "height": 262
    },
    "id": "g2jLfsYBiS2J",
    "outputId": "bf8fb2a3-4153-44be-b20a-04cf9465ea29",
    "pycharm": {
     "name": "#%%\n"
    }
   },
   "outputs": [
    {
     "output_type": "display_data",
     "data": {
      "text/plain": [
       "<Figure size 252x252 with 1 Axes>"
      ],
      "image/png": "[encoded data removed]"
     },
     "metadata": {
      "needs_background": "light"
     }
    }
   ],
   "source": [
    "plt.figure(figsize=(3.5,3.5))\n",
    "plt.scatter(X_dash[:,0], X_dash[:,1], zorder=10, color='#c44e52')\n",
    "plt.xlim(-3,3)\n",
    "plt.ylim(-3,3)\n",
    "plt.axhline(0, color='blue', alpha=0.5)\n",
    "plt.axvline(0, color='blue', alpha=0.5)\n",
    "plt.xlabel(\"$PC1$\", fontsize=15)\n",
    "plt.ylabel(\"$PC2$\", fontsize=15)\n",
    "plt.show()"
   ]
  },
  {
   "cell_type": "code",
   "source": [
    "X_dash"
   ],
   "metadata": {
    "colab": {
     "base_uri": "https://localhost:8080/"
    },
    "id": "0eJExO2WPLXG",
    "outputId": "56168246-6232-4c30-8ea7-1d1f3bf201d8",
    "pycharm": {
     "name": "#%%\n"
    }
   },
   "execution_count": 20,
   "outputs": [
    {
     "output_type": "execute_result",
     "data": {
      "text/plain": [
       "array([[ 1.86631879, -0.46855013],\n",
       "       [ 0.68237889, -0.57485822],\n",
       "       [ 0.24987107,  1.14789758],\n",
       "       [ 0.46612498,  0.28651968],\n",
       "       [-1.30978487,  0.12705754],\n",
       "       [-1.95490887, -0.51806645]])"
      ]
     },
     "metadata": {},
     "execution_count": 20
    }
   ]
  },
  {
   "cell_type": "code",
   "source": [
    "X_dash[:,0] ** 2"
   ],
   "metadata": {
    "colab": {
     "base_uri": "https://localhost:8080/"
    },
    "id": "qA5FbxWaOjwl",
    "outputId": "a9f16432-6260-4615-e0ee-ed6f8aee5a4f",
    "pycharm": {
     "name": "#%%\n"
    }
   },
   "execution_count": 21,
   "outputs": [
    {
     "output_type": "execute_result",
     "data": {
      "text/plain": [
       "array([3.48314584, 0.46564095, 0.06243555, 0.2172725 , 1.71553641,\n",
       "       3.82166868])"
      ]
     },
     "metadata": {},
     "execution_count": 21
    }
   ]
  },
  {
   "cell_type": "code",
   "source": [
    "np.sum(X_dash[:,0] ** 2)"
   ],
   "metadata": {
    "colab": {
     "base_uri": "https://localhost:8080/"
    },
    "id": "aePBIFZzOeHP",
    "outputId": "25300a03-cea7-4c2a-9915-8fe6dbb84302",
    "pycharm": {
     "name": "#%%\n"
    }
   },
   "execution_count": 22,
   "outputs": [
    {
     "output_type": "execute_result",
     "data": {
      "text/plain": [
       "9.765699933750668"
      ]
     },
     "metadata": {},
     "execution_count": 22
    }
   ]
  },
  {
   "cell_type": "code",
   "source": [
    "np.sum(X_dash[:,1] ** 2)"
   ],
   "metadata": {
    "colab": {
     "base_uri": "https://localhost:8080/"
    },
    "id": "XtmDr3fpVhTq",
    "outputId": "b93ef022-01ae-45c9-a5b6-d4eb72b114e2",
    "pycharm": {
     "name": "#%%\n"
    }
   },
   "execution_count": 23,
   "outputs": [
    {
     "output_type": "execute_result",
     "data": {
      "text/plain": [
       "2.234300066249332"
      ]
     },
     "metadata": {},
     "execution_count": 23
    }
   ]
  },
  {
   "cell_type": "code",
   "source": [
    "9.765699933750668 / (9.765699933750668 + 2.234300066249332)"
   ],
   "metadata": {
    "colab": {
     "base_uri": "https://localhost:8080/"
    },
    "id": "CR3zHiKOVlhD",
    "outputId": "e44da99b-92d7-4c41-ca9e-a25e414ab58b",
    "pycharm": {
     "name": "#%%\n"
    }
   },
   "execution_count": 24,
   "outputs": [
    {
     "output_type": "execute_result",
     "data": {
      "text/plain": [
       "0.8138083278125556"
      ]
     },
     "metadata": {},
     "execution_count": 24
    }
   ]
  },
  {
   "cell_type": "markdown",
   "metadata": {
    "id": "xGsdPf2niS2K",
    "pycharm": {
     "name": "#%% md\n"
    }
   },
   "source": [
    "# Explained variance ratio"
   ]
  },
  {
   "cell_type": "code",
   "source": [
    "explained_variance_ratio_one = eigen_values[0] / np.sum(eigen_values)\n",
    "explained_variance_ratio_two = eigen_values[1] / np.sum(eigen_values)"
   ],
   "metadata": {
    "id": "Trwnjq11cNnU",
    "pycharm": {
     "name": "#%%\n"
    }
   },
   "execution_count": 25,
   "outputs": []
  },
  {
   "cell_type": "code",
   "source": [
    "explained_variance_ratio_one"
   ],
   "metadata": {
    "colab": {
     "base_uri": "https://localhost:8080/"
    },
    "id": "bk3nf8OlcOjm",
    "outputId": "06d5707e-6982-41c2-abb1-44b75e147a98",
    "pycharm": {
     "name": "#%%\n"
    }
   },
   "execution_count": 26,
   "outputs": [
    {
     "output_type": "execute_result",
     "data": {
      "text/plain": [
       "0.8138083278125557"
      ]
     },
     "metadata": {},
     "execution_count": 26
    }
   ]
  },
  {
   "cell_type": "code",
   "source": [
    "explained_variance_ratio_two"
   ],
   "metadata": {
    "colab": {
     "base_uri": "https://localhost:8080/"
    },
    "id": "UqBzwjKHcPoS",
    "outputId": "22e073c4-3b42-4e1f-93db-cd2f88771b52",
    "pycharm": {
     "name": "#%%\n"
    }
   },
   "execution_count": 27,
   "outputs": [
    {
     "output_type": "execute_result",
     "data": {
      "text/plain": [
       "0.18619167218744437"
      ]
     },
     "metadata": {},
     "execution_count": 27
    }
   ]
  },
  {
   "cell_type": "code",
   "execution_count": 28,
   "metadata": {
    "colab": {
     "base_uri": "https://localhost:8080/",
     "height": 249
    },
    "id": "nCGU0_YYiS2K",
    "outputId": "831c47fb-ca35-46af-a030-ba10f1e16356",
    "pycharm": {
     "name": "#%%\n"
    }
   },
   "outputs": [
    {
     "output_type": "display_data",
     "data": {
      "text/plain": [
       "<Figure size 324x216 with 1 Axes>"
      ],
      "image/png": "[encoded data removed]"
     },
     "metadata": {
      "needs_background": "light"
     }
    }
   ],
   "source": [
    "def plot_hisotgram(bar_labels, bar_heights, xlab=\"X-label\", ylab=\"Y-label\", title=\"Title\"):\n",
    "    # We need to extract the label positions (i.e. [0,1,2,..., n_bars])\n",
    "    label_positions = np.arange(len(bar_labels))\n",
    "    plt.xlabel(xlab, fontsize=14)\n",
    "    plt.ylabel(ylab, fontsize=14)\n",
    "    plt.title(title, fontsize=14)\n",
    "    plt.xticks(label_positions, bar_labels, fontsize=12)     # We add the label for each bar. \n",
    "    plt.ylim(0,1)\n",
    "    plt.title(\"Explained Variance\", fontsize=14)\n",
    "    plt.bar(label_positions, bar_heights)\n",
    "    \n",
    "ratios = [explained_variance_ratio_one, explained_variance_ratio_two]\n",
    "labels = [\"$u_1$\",\"$u_2$\"]\n",
    "plt.figure(figsize=(4.5,3))\n",
    "plot_hisotgram(labels, ratios ,xlab=\"Principal Component\", ylab=\"Explained Variance Ratio\", title=\"\")"
   ]
  },
  {
   "cell_type": "markdown",
   "metadata": {
    "id": "V3bH55BViS2K",
    "pycharm": {
     "name": "#%% md\n"
    }
   },
   "source": [
    "# Recovering the original data points"
   ]
  },
  {
   "cell_type": "code",
   "execution_count": 29,
   "metadata": {
    "colab": {
     "base_uri": "https://localhost:8080/"
    },
    "id": "F6ZzqpCaiS2K",
    "outputId": "587ce3c5-c764-4e55-e7ba-2608e09a4f4d",
    "pycharm": {
     "name": "#%%\n"
    }
   },
   "outputs": [
    {
     "output_type": "execute_result",
     "data": {
      "text/plain": [
       "array([[ 1.65100165,  0.9883717 ],\n",
       "       [ 0.88900089,  0.07602859],\n",
       "       [-0.63500064,  0.9883717 ],\n",
       "       [ 0.12700013,  0.53220014],\n",
       "       [-1.01600102, -0.83631451],\n",
       "       [-1.01600102, -1.74865762]])"
      ]
     },
     "metadata": {},
     "execution_count": 29
    }
   ],
   "source": [
    "recovered_full = np.dot(X_dash, np.transpose(W))\n",
    "recovered_full"
   ]
  },
  {
   "cell_type": "code",
   "execution_count": 30,
   "metadata": {
    "colab": {
     "base_uri": "https://localhost:8080/",
     "height": 262
    },
    "id": "YcktQnMViS2K",
    "outputId": "4e35a284-087d-456c-f6c7-b97f028a895f",
    "pycharm": {
     "name": "#%%\n"
    }
   },
   "outputs": [
    {
     "output_type": "display_data",
     "data": {
      "text/plain": [
       "<Figure size 252x252 with 1 Axes>"
      ],
      "image/png": "[encoded data removed]"
     },
     "metadata": {
      "needs_background": "light"
     }
    }
   ],
   "source": [
    "plt.figure(figsize=(3.5,3.5))\n",
    "plt.scatter(recovered_full[:,0], recovered_full[:,1], zorder=10)\n",
    "plt.xlim(-3,3)\n",
    "plt.ylim(-3,3)\n",
    "plt.xlabel(\"$z_1$\", fontsize=15)\n",
    "plt.ylabel('$z_2$', fontsize=15)\n",
    "plt.axhline(0, color='lightgray')\n",
    "plt.axvline(0, color='lightgray')\n",
    "plt.show()"
   ]
  },
  {
   "cell_type": "code",
   "execution_count": 31,
   "metadata": {
    "colab": {
     "base_uri": "https://localhost:8080/"
    },
    "id": "wOEVBuKIiS2K",
    "outputId": "3fb37228-0084-4d4a-9963-87ca71a33dd5",
    "pycharm": {
     "name": "#%%\n"
    }
   },
   "outputs": [
    {
     "output_type": "execute_result",
     "data": {
      "text/plain": [
       "array([[ 1.86631879],\n",
       "       [ 0.68237889],\n",
       "       [ 0.24987107],\n",
       "       [ 0.46612498],\n",
       "       [-1.30978487],\n",
       "       [-1.95490887]])"
      ]
     },
     "metadata": {},
     "execution_count": 31
    }
   ],
   "source": [
    "col_one = X_dash[:,0].reshape([-1,1])\n",
    "col_one"
   ]
  },
  {
   "cell_type": "code",
   "execution_count": 32,
   "metadata": {
    "colab": {
     "base_uri": "https://localhost:8080/"
    },
    "id": "SyfR0dUOiS2K",
    "outputId": "78801a8f-9fd2-49e3-dddd-cad957d629df",
    "pycharm": {
     "name": "#%%\n"
    }
   },
   "outputs": [
    {
     "output_type": "execute_result",
     "data": {
      "text/plain": [
       "array([[ 1.31968667,  1.31968667],\n",
       "       [ 0.48251474,  0.48251474],\n",
       "       [ 0.17668553,  0.17668553],\n",
       "       [ 0.32960014,  0.32960014],\n",
       "       [-0.92615776, -0.92615776],\n",
       "       [-1.38232932, -1.38232932]])"
      ]
     },
     "metadata": {},
     "execution_count": 32
    }
   ],
   "source": [
    "recovered_partial = np.dot(col_one, np.transpose(W)[0].reshape([1,-1]))\n",
    "recovered_partial"
   ]
  },
  {
   "cell_type": "code",
   "execution_count": 33,
   "metadata": {
    "colab": {
     "base_uri": "https://localhost:8080/",
     "height": 262
    },
    "id": "xZpooXVxiS2L",
    "outputId": "1ef3bbac-329c-4860-afb5-b82eed5b8556",
    "pycharm": {
     "name": "#%%\n"
    }
   },
   "outputs": [
    {
     "output_type": "display_data",
     "data": {
      "text/plain": [
       "<Figure size 252x252 with 1 Axes>"
      ],
      "image/png": "[encoded data removed]"
     },
     "metadata": {
      "needs_background": "light"
     }
    }
   ],
   "source": [
    "plt.figure(figsize=(3.5,3.5))\n",
    "plt.scatter(recovered_partial[:,0], recovered_partial[:,1], zorder=10)\n",
    "plt.xlim(-3,3)\n",
    "plt.ylim(-3,3)\n",
    "plt.xlabel('$z_1$', fontsize=15)\n",
    "plt.ylabel('$z_2$', fontsize=15)\n",
    "plt.axhline(0, color='lightgray')\n",
    "plt.axvline(0, color='lightgray')\n",
    "plt.plot([-3, 3], [-3, 3], color='blue', linestyle='-', linewidth=2, alpha=0.2)\n",
    "plt.plot([-3, 3], [3, -3], color='blue', linestyle='-', linewidth=2, alpha=0.2)\n",
    "plt.show()"
   ]
  },
  {
   "cell_type": "markdown",
   "metadata": {
    "id": "KvkweObyiS2L",
    "pycharm": {
     "name": "#%% md\n"
    }
   },
   "source": [
    "# Performing PCA on the Iris dataset"
   ]
  },
  {
   "cell_type": "code",
   "execution_count": null,
   "metadata": {
    "colab": {
     "base_uri": "https://localhost:8080/"
    },
    "id": "3yBmaijOiS2L",
    "outputId": "288513b9-7e5e-43d1-dcb0-492d14fa6518",
    "pycharm": {
     "name": "#%%\n"
    }
   },
   "outputs": [
    {
     "output_type": "execute_result",
     "data": {
      "text/plain": [
       "   sepal_length  sepal_width  petal_length  petal_width species\n",
       "0           5.1          3.5           1.4          0.2  setosa\n",
       "1           4.9          3.0           1.4          0.2  setosa\n",
       "2           4.7          3.2           1.3          0.2  setosa\n",
       "3           4.6          3.1           1.5          0.2  setosa\n",
       "4           5.0          3.6           1.4          0.2  setosa"
      ],
      "text/html": [
       "\n",
       "  <div id=\"df-8cde9ef8-97c9-43f2-8d82-8c7d3fc6fad5\">\n",
       "    <div class=\"colab-df-container\">\n",
       "      <div>\n",
       "<style scoped>\n",
       "    .dataframe tbody tr th:only-of-type {\n",
       "        vertical-align: middle;\n",
       "    }\n",
       "\n",
       "    .dataframe tbody tr th {\n",
       "        vertical-align: top;\n",
       "    }\n",
       "\n",
       "    .dataframe thead th {\n",
       "        text-align: right;\n",
       "    }\n",
       "</style>\n",
       "<table border=\"1\" class=\"dataframe\">\n",
       "  <thead>\n",
       "    <tr style=\"text-align: right;\">\n",
       "      <th></th>\n",
       "      <th>sepal_length</th>\n",
       "      <th>sepal_width</th>\n",
       "      <th>petal_length</th>\n",
       "      <th>petal_width</th>\n",
       "      <th>species</th>\n",
       "    </tr>\n",
       "  </thead>\n",
       "  <tbody>\n",
       "    <tr>\n",
       "      <th>0</th>\n",
       "      <td>5.1</td>\n",
       "      <td>3.5</td>\n",
       "      <td>1.4</td>\n",
       "      <td>0.2</td>\n",
       "      <td>setosa</td>\n",
       "    </tr>\n",
       "    <tr>\n",
       "      <th>1</th>\n",
       "      <td>4.9</td>\n",
       "      <td>3.0</td>\n",
       "      <td>1.4</td>\n",
       "      <td>0.2</td>\n",
       "      <td>setosa</td>\n",
       "    </tr>\n",
       "    <tr>\n",
       "      <th>2</th>\n",
       "      <td>4.7</td>\n",
       "      <td>3.2</td>\n",
       "      <td>1.3</td>\n",
       "      <td>0.2</td>\n",
       "      <td>setosa</td>\n",
       "    </tr>\n",
       "    <tr>\n",
       "      <th>3</th>\n",
       "      <td>4.6</td>\n",
       "      <td>3.1</td>\n",
       "      <td>1.5</td>\n",
       "      <td>0.2</td>\n",
       "      <td>setosa</td>\n",
       "    </tr>\n",
       "    <tr>\n",
       "      <th>4</th>\n",
       "      <td>5.0</td>\n",
       "      <td>3.6</td>\n",
       "      <td>1.4</td>\n",
       "      <td>0.2</td>\n",
       "      <td>setosa</td>\n",
       "    </tr>\n",
       "  </tbody>\n",
       "</table>\n",
       "</div>\n",
       "      <button class=\"colab-df-convert\" onclick=\"convertToInteractive('df-8cde9ef8-97c9-43f2-8d82-8c7d3fc6fad5')\"\n",
       "              title=\"Convert this dataframe to an interactive table.\"\n",
       "              style=\"display:none;\">\n",
       "        \n",
       "  <svg xmlns=\"http://www.w3.org/2000/svg\" height=\"24px\"viewBox=\"0 0 24 24\"\n",
       "       width=\"24px\">\n",
       "    <path d=\"M0 0h24v24H0V0z\" fill=\"none\"/>\n",
       "    <path d=\"M18.56 5.44l.94 2.06.94-2.06 2.06-.94-2.06-.94-.94-2.06-.94 2.06-2.06.94zm-11 1L8.5 8.5l.94-2.06 2.06-.94-2.06-.94L8.5 2.5l-.94 2.06-2.06.94zm10 10l.94 2.06.94-2.06 2.06-.94-2.06-.94-.94-2.06-.94 2.06-2.06.94z\"/><path d=\"M17.41 7.96l-1.37-1.37c-.4-.4-.92-.59-1.43-.59-.52 0-1.04.2-1.43.59L10.3 9.45l-7.72 7.72c-.78.78-.78 2.05 0 2.83L4 21.41c.39.39.9.59 1.41.59.51 0 1.02-.2 1.41-.59l7.78-7.78 2.81-2.81c.8-.78.8-2.07 0-2.86zM5.41 20L4 18.59l7.72-7.72 1.47 1.35L5.41 20z\"/>\n",
       "  </svg>\n",
       "      </button>\n",
       "      \n",
       "  <style>\n",
       "    .colab-df-container {\n",
       "      display:flex;\n",
       "      flex-wrap:wrap;\n",
       "      gap: 12px;\n",
       "    }\n",
       "\n",
       "    .colab-df-convert {\n",
       "      background-color: #E8F0FE;\n",
       "      border: none;\n",
       "      border-radius: 50%;\n",
       "      cursor: pointer;\n",
       "      display: none;\n",
       "      fill: #1967D2;\n",
       "      height: 32px;\n",
       "      padding: 0 0 0 0;\n",
       "      width: 32px;\n",
       "    }\n",
       "\n",
       "    .colab-df-convert:hover {\n",
       "      background-color: #E2EBFA;\n",
       "      box-shadow: 0px 1px 2px rgba(60, 64, 67, 0.3), 0px 1px 3px 1px rgba(60, 64, 67, 0.15);\n",
       "      fill: #174EA6;\n",
       "    }\n",
       "\n",
       "    [theme=dark] .colab-df-convert {\n",
       "      background-color: #3B4455;\n",
       "      fill: #D2E3FC;\n",
       "    }\n",
       "\n",
       "    [theme=dark] .colab-df-convert:hover {\n",
       "      background-color: #434B5C;\n",
       "      box-shadow: 0px 1px 3px 1px rgba(0, 0, 0, 0.15);\n",
       "      filter: drop-shadow(0px 1px 2px rgba(0, 0, 0, 0.3));\n",
       "      fill: #FFFFFF;\n",
       "    }\n",
       "  </style>\n",
       "\n",
       "      <script>\n",
       "        const buttonEl =\n",
       "          document.querySelector('#df-8cde9ef8-97c9-43f2-8d82-8c7d3fc6fad5 button.colab-df-convert');\n",
       "        buttonEl.style.display =\n",
       "          google.colab.kernel.accessAllowed ? 'block' : 'none';\n",
       "\n",
       "        async function convertToInteractive(key) {\n",
       "          const element = document.querySelector('#df-8cde9ef8-97c9-43f2-8d82-8c7d3fc6fad5');\n",
       "          const dataTable =\n",
       "            await google.colab.kernel.invokeFunction('convertToInteractive',\n",
       "                                                     [key], {});\n",
       "          if (!dataTable) return;\n",
       "\n",
       "          const docLinkHtml = 'Like what you see? Visit the ' +\n",
       "            '<a target=\"_blank\" href=https://colab.research.google.com/notebooks/data_table.ipynb>data table notebook</a>'\n",
       "            + ' to learn more about interactive tables.';\n",
       "          element.innerHTML = '';\n",
       "          dataTable['output_type'] = 'display_data';\n",
       "          await google.colab.output.renderOutput(dataTable, element);\n",
       "          const docLink = document.createElement('div');\n",
       "          docLink.innerHTML = docLinkHtml;\n",
       "          element.appendChild(docLink);\n",
       "        }\n",
       "      </script>\n",
       "    </div>\n",
       "  </div>\n",
       "  "
      ]
     },
     "metadata": {},
     "execution_count": 26
    }
   ],
   "source": [
    "import pandas as pd\n",
    "\n",
    "df_raw = pd.read_csv('https://raw.githubusercontent.com/SkyTowner/sample_data/main/iris_dataset')\n",
    "df_raw.head()"
   ]
  },
  {
   "cell_type": "code",
   "execution_count": null,
   "metadata": {
    "colab": {
     "base_uri": "https://localhost:8080/"
    },
    "id": "W9OJWYDsiS2L",
    "outputId": "9fc872d8-ebd1-4d7d-c749-c583c3f26277",
    "pycharm": {
     "name": "#%%\n"
    }
   },
   "outputs": [
    {
     "output_type": "execute_result",
     "data": {
      "text/plain": [
       "   sepal_length  sepal_width  petal_length  petal_width\n",
       "0           5.1          3.5           1.4          0.2\n",
       "1           4.9          3.0           1.4          0.2\n",
       "2           4.7          3.2           1.3          0.2\n",
       "3           4.6          3.1           1.5          0.2\n",
       "4           5.0          3.6           1.4          0.2"
      ],
      "text/html": [
       "\n",
       "  <div id=\"df-56d54e9d-75a8-4155-b3c2-374dabf016d4\">\n",
       "    <div class=\"colab-df-container\">\n",
       "      <div>\n",
       "<style scoped>\n",
       "    .dataframe tbody tr th:only-of-type {\n",
       "        vertical-align: middle;\n",
       "    }\n",
       "\n",
       "    .dataframe tbody tr th {\n",
       "        vertical-align: top;\n",
       "    }\n",
       "\n",
       "    .dataframe thead th {\n",
       "        text-align: right;\n",
       "    }\n",
       "</style>\n",
       "<table border=\"1\" class=\"dataframe\">\n",
       "  <thead>\n",
       "    <tr style=\"text-align: right;\">\n",
       "      <th></th>\n",
       "      <th>sepal_length</th>\n",
       "      <th>sepal_width</th>\n",
       "      <th>petal_length</th>\n",
       "      <th>petal_width</th>\n",
       "    </tr>\n",
       "  </thead>\n",
       "  <tbody>\n",
       "    <tr>\n",
       "      <th>0</th>\n",
       "      <td>5.1</td>\n",
       "      <td>3.5</td>\n",
       "      <td>1.4</td>\n",
       "      <td>0.2</td>\n",
       "    </tr>\n",
       "    <tr>\n",
       "      <th>1</th>\n",
       "      <td>4.9</td>\n",
       "      <td>3.0</td>\n",
       "      <td>1.4</td>\n",
       "      <td>0.2</td>\n",
       "    </tr>\n",
       "    <tr>\n",
       "      <th>2</th>\n",
       "      <td>4.7</td>\n",
       "      <td>3.2</td>\n",
       "      <td>1.3</td>\n",
       "      <td>0.2</td>\n",
       "    </tr>\n",
       "    <tr>\n",
       "      <th>3</th>\n",
       "      <td>4.6</td>\n",
       "      <td>3.1</td>\n",
       "      <td>1.5</td>\n",
       "      <td>0.2</td>\n",
       "    </tr>\n",
       "    <tr>\n",
       "      <th>4</th>\n",
       "      <td>5.0</td>\n",
       "      <td>3.6</td>\n",
       "      <td>1.4</td>\n",
       "      <td>0.2</td>\n",
       "    </tr>\n",
       "  </tbody>\n",
       "</table>\n",
       "</div>\n",
       "      <button class=\"colab-df-convert\" onclick=\"convertToInteractive('df-56d54e9d-75a8-4155-b3c2-374dabf016d4')\"\n",
       "              title=\"Convert this dataframe to an interactive table.\"\n",
       "              style=\"display:none;\">\n",
       "        \n",
       "  <svg xmlns=\"http://www.w3.org/2000/svg\" height=\"24px\"viewBox=\"0 0 24 24\"\n",
       "       width=\"24px\">\n",
       "    <path d=\"M0 0h24v24H0V0z\" fill=\"none\"/>\n",
       "    <path d=\"M18.56 5.44l.94 2.06.94-2.06 2.06-.94-2.06-.94-.94-2.06-.94 2.06-2.06.94zm-11 1L8.5 8.5l.94-2.06 2.06-.94-2.06-.94L8.5 2.5l-.94 2.06-2.06.94zm10 10l.94 2.06.94-2.06 2.06-.94-2.06-.94-.94-2.06-.94 2.06-2.06.94z\"/><path d=\"M17.41 7.96l-1.37-1.37c-.4-.4-.92-.59-1.43-.59-.52 0-1.04.2-1.43.59L10.3 9.45l-7.72 7.72c-.78.78-.78 2.05 0 2.83L4 21.41c.39.39.9.59 1.41.59.51 0 1.02-.2 1.41-.59l7.78-7.78 2.81-2.81c.8-.78.8-2.07 0-2.86zM5.41 20L4 18.59l7.72-7.72 1.47 1.35L5.41 20z\"/>\n",
       "  </svg>\n",
       "      </button>\n",
       "      \n",
       "  <style>\n",
       "    .colab-df-container {\n",
       "      display:flex;\n",
       "      flex-wrap:wrap;\n",
       "      gap: 12px;\n",
       "    }\n",
       "\n",
       "    .colab-df-convert {\n",
       "      background-color: #E8F0FE;\n",
       "      border: none;\n",
       "      border-radius: 50%;\n",
       "      cursor: pointer;\n",
       "      display: none;\n",
       "      fill: #1967D2;\n",
       "      height: 32px;\n",
       "      padding: 0 0 0 0;\n",
       "      width: 32px;\n",
       "    }\n",
       "\n",
       "    .colab-df-convert:hover {\n",
       "      background-color: #E2EBFA;\n",
       "      box-shadow: 0px 1px 2px rgba(60, 64, 67, 0.3), 0px 1px 3px 1px rgba(60, 64, 67, 0.15);\n",
       "      fill: #174EA6;\n",
       "    }\n",
       "\n",
       "    [theme=dark] .colab-df-convert {\n",
       "      background-color: #3B4455;\n",
       "      fill: #D2E3FC;\n",
       "    }\n",
       "\n",
       "    [theme=dark] .colab-df-convert:hover {\n",
       "      background-color: #434B5C;\n",
       "      box-shadow: 0px 1px 3px 1px rgba(0, 0, 0, 0.15);\n",
       "      filter: drop-shadow(0px 1px 2px rgba(0, 0, 0, 0.3));\n",
       "      fill: #FFFFFF;\n",
       "    }\n",
       "  </style>\n",
       "\n",
       "      <script>\n",
       "        const buttonEl =\n",
       "          document.querySelector('#df-56d54e9d-75a8-4155-b3c2-374dabf016d4 button.colab-df-convert');\n",
       "        buttonEl.style.display =\n",
       "          google.colab.kernel.accessAllowed ? 'block' : 'none';\n",
       "\n",
       "        async function convertToInteractive(key) {\n",
       "          const element = document.querySelector('#df-56d54e9d-75a8-4155-b3c2-374dabf016d4');\n",
       "          const dataTable =\n",
       "            await google.colab.kernel.invokeFunction('convertToInteractive',\n",
       "                                                     [key], {});\n",
       "          if (!dataTable) return;\n",
       "\n",
       "          const docLinkHtml = 'Like what you see? Visit the ' +\n",
       "            '<a target=\"_blank\" href=https://colab.research.google.com/notebooks/data_table.ipynb>data table notebook</a>'\n",
       "            + ' to learn more about interactive tables.';\n",
       "          element.innerHTML = '';\n",
       "          dataTable['output_type'] = 'display_data';\n",
       "          await google.colab.output.renderOutput(dataTable, element);\n",
       "          const docLink = document.createElement('div');\n",
       "          docLink.innerHTML = docLinkHtml;\n",
       "          element.appendChild(docLink);\n",
       "        }\n",
       "      </script>\n",
       "    </div>\n",
       "  </div>\n",
       "  "
      ]
     },
     "metadata": {},
     "execution_count": 27
    }
   ],
   "source": [
    "df_X = df_raw.drop(columns='species')\n",
    "df_X.head()"
   ]
  },
  {
   "cell_type": "code",
   "execution_count": null,
   "metadata": {
    "colab": {
     "base_uri": "https://localhost:8080/"
    },
    "id": "U7t7ignbiS2L",
    "outputId": "e5aacdf6-24fc-462a-8cb3-92e6d9dee891",
    "pycharm": {
     "name": "#%%\n"
    }
   },
   "outputs": [
    {
     "output_type": "execute_result",
     "data": {
      "text/plain": [
       "array([[-0.90068117,  1.03205722, -1.3412724 , -1.31297673],\n",
       "       [-1.14301691, -0.1249576 , -1.3412724 , -1.31297673],\n",
       "       [-1.38535265,  0.33784833, -1.39813811, -1.31297673],\n",
       "       [-1.50652052,  0.10644536, -1.2844067 , -1.31297673],\n",
       "       [-1.02184904,  1.26346019, -1.3412724 , -1.31297673]])"
      ]
     },
     "metadata": {},
     "execution_count": 28
    }
   ],
   "source": [
    "from sklearn.preprocessing import StandardScaler\n",
    "\n",
    "sc = StandardScaler()\n",
    "scaled_X = sc.fit_transform(df_X)\n",
    "scaled_X[:5]   # Show the first 5 rows"
   ]
  },
  {
   "cell_type": "code",
   "execution_count": null,
   "metadata": {
    "colab": {
     "base_uri": "https://localhost:8080/"
    },
    "id": "ci1QBAwViS2L",
    "outputId": "62f13707-0a4c-44de-ff40-5eab2bfadbab",
    "pycharm": {
     "name": "#%%\n"
    }
   },
   "outputs": [
    {
     "output_type": "execute_result",
     "data": {
      "text/plain": [
       "array([[-2.26454173,  0.5057039 ],\n",
       "       [-2.0864255 , -0.65540473],\n",
       "       [-2.36795045, -0.31847731],\n",
       "       [-2.30419716, -0.57536771],\n",
       "       [-2.38877749,  0.6747674 ]])"
      ]
     },
     "metadata": {},
     "execution_count": 29
    }
   ],
   "source": [
    "from sklearn.decomposition import PCA\n",
    "\n",
    "pca = PCA(n_components=2)\n",
    "X_pca = pca.fit_transform(scaled_X)\n",
    "X_pca[:5]"
   ]
  },
  {
   "cell_type": "code",
   "execution_count": null,
   "metadata": {
    "colab": {
     "base_uri": "https://localhost:8080/"
    },
    "id": "XeTiPDHEiS2L",
    "outputId": "14f8fbc6-41b0-468d-921a-7730a9e3734e",
    "pycharm": {
     "name": "#%%\n"
    }
   },
   "outputs": [
    {
     "output_type": "execute_result",
     "data": {
      "text/plain": [
       "        PC1       PC2   label\n",
       "0 -2.264542  0.505704  setosa\n",
       "1 -2.086426 -0.655405  setosa\n",
       "2 -2.367950 -0.318477  setosa\n",
       "3 -2.304197 -0.575368  setosa\n",
       "4 -2.388777  0.674767  setosa"
      ],
      "text/html": [
       "\n",
       "  <div id=\"df-61af6261-f8fa-4a53-96f3-6dd486010824\">\n",
       "    <div class=\"colab-df-container\">\n",
       "      <div>\n",
       "<style scoped>\n",
       "    .dataframe tbody tr th:only-of-type {\n",
       "        vertical-align: middle;\n",
       "    }\n",
       "\n",
       "    .dataframe tbody tr th {\n",
       "        vertical-align: top;\n",
       "    }\n",
       "\n",
       "    .dataframe thead th {\n",
       "        text-align: right;\n",
       "    }\n",
       "</style>\n",
       "<table border=\"1\" class=\"dataframe\">\n",
       "  <thead>\n",
       "    <tr style=\"text-align: right;\">\n",
       "      <th></th>\n",
       "      <th>PC1</th>\n",
       "      <th>PC2</th>\n",
       "      <th>label</th>\n",
       "    </tr>\n",
       "  </thead>\n",
       "  <tbody>\n",
       "    <tr>\n",
       "      <th>0</th>\n",
       "      <td>-2.264542</td>\n",
       "      <td>0.505704</td>\n",
       "      <td>setosa</td>\n",
       "    </tr>\n",
       "    <tr>\n",
       "      <th>1</th>\n",
       "      <td>-2.086426</td>\n",
       "      <td>-0.655405</td>\n",
       "      <td>setosa</td>\n",
       "    </tr>\n",
       "    <tr>\n",
       "      <th>2</th>\n",
       "      <td>-2.367950</td>\n",
       "      <td>-0.318477</td>\n",
       "      <td>setosa</td>\n",
       "    </tr>\n",
       "    <tr>\n",
       "      <th>3</th>\n",
       "      <td>-2.304197</td>\n",
       "      <td>-0.575368</td>\n",
       "      <td>setosa</td>\n",
       "    </tr>\n",
       "    <tr>\n",
       "      <th>4</th>\n",
       "      <td>-2.388777</td>\n",
       "      <td>0.674767</td>\n",
       "      <td>setosa</td>\n",
       "    </tr>\n",
       "  </tbody>\n",
       "</table>\n",
       "</div>\n",
       "      <button class=\"colab-df-convert\" onclick=\"convertToInteractive('df-61af6261-f8fa-4a53-96f3-6dd486010824')\"\n",
       "              title=\"Convert this dataframe to an interactive table.\"\n",
       "              style=\"display:none;\">\n",
       "        \n",
       "  <svg xmlns=\"http://www.w3.org/2000/svg\" height=\"24px\"viewBox=\"0 0 24 24\"\n",
       "       width=\"24px\">\n",
       "    <path d=\"M0 0h24v24H0V0z\" fill=\"none\"/>\n",
       "    <path d=\"M18.56 5.44l.94 2.06.94-2.06 2.06-.94-2.06-.94-.94-2.06-.94 2.06-2.06.94zm-11 1L8.5 8.5l.94-2.06 2.06-.94-2.06-.94L8.5 2.5l-.94 2.06-2.06.94zm10 10l.94 2.06.94-2.06 2.06-.94-2.06-.94-.94-2.06-.94 2.06-2.06.94z\"/><path d=\"M17.41 7.96l-1.37-1.37c-.4-.4-.92-.59-1.43-.59-.52 0-1.04.2-1.43.59L10.3 9.45l-7.72 7.72c-.78.78-.78 2.05 0 2.83L4 21.41c.39.39.9.59 1.41.59.51 0 1.02-.2 1.41-.59l7.78-7.78 2.81-2.81c.8-.78.8-2.07 0-2.86zM5.41 20L4 18.59l7.72-7.72 1.47 1.35L5.41 20z\"/>\n",
       "  </svg>\n",
       "      </button>\n",
       "      \n",
       "  <style>\n",
       "    .colab-df-container {\n",
       "      display:flex;\n",
       "      flex-wrap:wrap;\n",
       "      gap: 12px;\n",
       "    }\n",
       "\n",
       "    .colab-df-convert {\n",
       "      background-color: #E8F0FE;\n",
       "      border: none;\n",
       "      border-radius: 50%;\n",
       "      cursor: pointer;\n",
       "      display: none;\n",
       "      fill: #1967D2;\n",
       "      height: 32px;\n",
       "      padding: 0 0 0 0;\n",
       "      width: 32px;\n",
       "    }\n",
       "\n",
       "    .colab-df-convert:hover {\n",
       "      background-color: #E2EBFA;\n",
       "      box-shadow: 0px 1px 2px rgba(60, 64, 67, 0.3), 0px 1px 3px 1px rgba(60, 64, 67, 0.15);\n",
       "      fill: #174EA6;\n",
       "    }\n",
       "\n",
       "    [theme=dark] .colab-df-convert {\n",
       "      background-color: #3B4455;\n",
       "      fill: #D2E3FC;\n",
       "    }\n",
       "\n",
       "    [theme=dark] .colab-df-convert:hover {\n",
       "      background-color: #434B5C;\n",
       "      box-shadow: 0px 1px 3px 1px rgba(0, 0, 0, 0.15);\n",
       "      filter: drop-shadow(0px 1px 2px rgba(0, 0, 0, 0.3));\n",
       "      fill: #FFFFFF;\n",
       "    }\n",
       "  </style>\n",
       "\n",
       "      <script>\n",
       "        const buttonEl =\n",
       "          document.querySelector('#df-61af6261-f8fa-4a53-96f3-6dd486010824 button.colab-df-convert');\n",
       "        buttonEl.style.display =\n",
       "          google.colab.kernel.accessAllowed ? 'block' : 'none';\n",
       "\n",
       "        async function convertToInteractive(key) {\n",
       "          const element = document.querySelector('#df-61af6261-f8fa-4a53-96f3-6dd486010824');\n",
       "          const dataTable =\n",
       "            await google.colab.kernel.invokeFunction('convertToInteractive',\n",
       "                                                     [key], {});\n",
       "          if (!dataTable) return;\n",
       "\n",
       "          const docLinkHtml = 'Like what you see? Visit the ' +\n",
       "            '<a target=\"_blank\" href=https://colab.research.google.com/notebooks/data_table.ipynb>data table notebook</a>'\n",
       "            + ' to learn more about interactive tables.';\n",
       "          element.innerHTML = '';\n",
       "          dataTable['output_type'] = 'display_data';\n",
       "          await google.colab.output.renderOutput(dataTable, element);\n",
       "          const docLink = document.createElement('div');\n",
       "          docLink.innerHTML = docLinkHtml;\n",
       "          element.appendChild(docLink);\n",
       "        }\n",
       "      </script>\n",
       "    </div>\n",
       "  </div>\n",
       "  "
      ]
     },
     "metadata": {},
     "execution_count": 30
    }
   ],
   "source": [
    "PC1 = X_pca[:,0]\n",
    "PC2 = X_pca[:,1]\n",
    "df = pd.DataFrame({'PC1': PC1, 'PC2': PC2, 'label': df_raw['species']})\n",
    "df.head()"
   ]
  },
  {
   "cell_type": "code",
   "execution_count": null,
   "metadata": {
    "colab": {
     "base_uri": "https://localhost:8080/"
    },
    "id": "dHm7TJ0WiS2L",
    "outputId": "92b6f8b5-fd72-4ed9-cb90-86eeaaba62c1",
    "pycharm": {
     "name": "#%%\n"
    }
   },
   "outputs": [
    {
     "output_type": "display_data",
     "data": {
      "text/plain": [
       "<Figure size 432x288 with 1 Axes>"
      ],
      "image/png": "[encoded data removed]"
     },
     "metadata": {
      "needs_background": "light"
     }
    }
   ],
   "source": [
    "import seaborn as sns\n",
    "\n",
    "sns.scatterplot(data=df, x=\"PC1\", y=\"PC2\", hue=\"label\")\n",
    "plt.xlabel('PC1', fontsize=15)\n",
    "plt.ylabel('PC2', fontsize=15)\n",
    "plt.legend(fontsize=13, title_fontsize='40')\n",
    "plt.show()"
   ]
  },
  {
   "cell_type": "code",
   "execution_count": null,
   "metadata": {
    "colab": {
     "base_uri": "https://localhost:8080/"
    },
    "id": "2ePbdnoiiS2M",
    "outputId": "df062979-868b-4b6d-e6af-d8e0730ab346",
    "pycharm": {
     "name": "#%%\n"
    }
   },
   "outputs": [
    {
     "output_type": "execute_result",
     "data": {
      "text/plain": [
       "array([[ 0.52237162, -0.26335492,  0.58125401,  0.56561105],\n",
       "       [ 0.37231836,  0.92555649,  0.02109478,  0.06541577]])"
      ]
     },
     "metadata": {},
     "execution_count": 32
    }
   ],
   "source": [
    "pca.components_"
   ]
  },
  {
   "cell_type": "code",
   "execution_count": null,
   "metadata": {
    "colab": {
     "base_uri": "https://localhost:8080/"
    },
    "id": "IAtPPd9FiS2M",
    "outputId": "f6658abf-9147-4230-a7a4-05417652d7f3",
    "pycharm": {
     "name": "#%%\n"
    }
   },
   "outputs": [
    {
     "output_type": "execute_result",
     "data": {
      "text/plain": [
       "array([0.72770452, 0.23030523])"
      ]
     },
     "metadata": {},
     "execution_count": 33
    }
   ],
   "source": [
    "pca.explained_variance_ratio_"
   ]
  },
  {
   "cell_type": "code",
   "execution_count": null,
   "metadata": {
    "colab": {
     "base_uri": "https://localhost:8080/"
    },
    "id": "V7WuZ6J4iS2M",
    "outputId": "f154a209-d45e-4a14-c511-485832c08b9c",
    "pycharm": {
     "name": "#%%\n"
    }
   },
   "outputs": [
    {
     "output_type": "execute_result",
     "data": {
      "text/plain": [
       "0.9580097536148197"
      ]
     },
     "metadata": {},
     "execution_count": 34
    }
   ],
   "source": [
    "np.sum(pca.explained_variance_ratio_)"
   ]
  },
  {
   "cell_type": "code",
   "execution_count": null,
   "metadata": {
    "colab": {
     "base_uri": "https://localhost:8080/"
    },
    "id": "ab4bD2LEiS2M",
    "outputId": "6630a380-7f0a-4361-c88a-25026e68ae6c",
    "pycharm": {
     "name": "#%%\n"
    }
   },
   "outputs": [
    {
     "output_type": "stream",
     "name": "stdout",
     "text": [
      "PC1: 0.52 sepal_length + -0.26 sepal_width + 0.58 petal_length + 0.57 petal_width\n",
      "PC2: 0.37 sepal_length + 0.93 sepal_width + 0.02 petal_length + 0.07 petal_width\n"
     ]
    }
   ],
   "source": [
    "for index, component in enumerate(np.round(pca.components_, 2)):\n",
    "    res = []\n",
    "    for value, col_name in zip(component, df_X.columns):\n",
    "        res.append(f'{value} {col_name}')\n",
    "    print(f'PC{index+1}: ' + ' + '.join(res))"
   ]
  },
  {
   "cell_type": "markdown",
   "metadata": {
    "id": "pMbW-P4EiS2M",
    "pycharm": {
     "name": "#%% md\n"
    }
   },
   "source": [
    "# Using PCA to reduce the dimensions of images"
   ]
  },
  {
   "cell_type": "code",
   "execution_count": null,
   "metadata": {
    "colab": {
     "base_uri": "https://localhost:8080/"
    },
    "id": "VjXjPIBmiS2M",
    "outputId": "db669ba5-00f6-4c44-d796-d4be243150f4",
    "pycharm": {
     "name": "#%%\n"
    }
   },
   "outputs": [
    {
     "output_type": "execute_result",
     "data": {
      "text/plain": [
       "(1797, 64)"
      ]
     },
     "metadata": {},
     "execution_count": 36
    }
   ],
   "source": [
    "from sklearn.datasets import load_digits\n",
    "digits = load_digits()\n",
    "digits.data.shape"
   ]
  },
  {
   "cell_type": "code",
   "execution_count": null,
   "metadata": {
    "id": "ekxvuCkgiS2M",
    "pycharm": {
     "name": "#%%\n"
    }
   },
   "outputs": [],
   "source": [
    "def show_digits(data):\n",
    "    # Create a 4 by 10 subplots\n",
    "    # xticks:[] and yticks:[] used to remove numbered labels\n",
    "    fig, axes = plt.subplots(4, 10, figsize=(8, 4),\n",
    "                             subplot_kw={'xticks':[], 'yticks':[]},\n",
    "                             gridspec_kw=dict(hspace=0.1, wspace=0.1))\n",
    "\n",
    "    for i, ax in enumerate(axes.flat):\n",
    "        ax.imshow(data[i].reshape(8, 8), interpolation='nearest')"
   ]
  },
  {
   "cell_type": "code",
   "execution_count": null,
   "metadata": {
    "colab": {
     "base_uri": "https://localhost:8080/"
    },
    "id": "w8oNQai-iS2M",
    "outputId": "861eac3b-8b3c-4e18-feb4-0b10270d6c73",
    "pycharm": {
     "name": "#%%\n"
    }
   },
   "outputs": [
    {
     "output_type": "display_data",
     "data": {
      "text/plain": [
       "<Figure size 576x288 with 40 Axes>"
      ],
      "image/png": "[encoded data removed]"
     },
     "metadata": {}
    }
   ],
   "source": [
    "show_digits(digits.data)"
   ]
  },
  {
   "cell_type": "code",
   "execution_count": null,
   "metadata": {
    "colab": {
     "base_uri": "https://localhost:8080/"
    },
    "id": "UkYnofURiS2M",
    "outputId": "54755876-7fb0-4e93-f538-ec52969f98f2",
    "pycharm": {
     "name": "#%%\n"
    }
   },
   "outputs": [
    {
     "output_type": "execute_result",
     "data": {
      "text/plain": [
       "array([ 0.        , -0.33501649, -0.04308102,  0.27407152, -0.66447751,\n",
       "       -0.84412939, -0.40972392, -0.12502292, -0.05907756, -0.62400926,\n",
       "        0.4829745 ,  0.75962245, -0.05842586,  1.12772113,  0.87958306,\n",
       "       -0.13043338, -0.04462507,  0.11144272,  0.89588044, -0.86066632,\n",
       "       -1.14964846,  0.51547187,  1.90596347, -0.11422184, -0.03337973,\n",
       "        0.48648928,  0.46988512, -1.49990136, -1.61406277,  0.07639777,\n",
       "        1.54181413, -0.04723238,  0.        ,  0.76465553,  0.05263019,\n",
       "       -1.44763006, -1.73666443,  0.04361588,  1.43955804,  0.        ,\n",
       "       -0.06134367,  0.8105536 ,  0.63011714, -1.12245711, -1.06623158,\n",
       "        0.66096475,  0.81845076, -0.08874162, -0.03543326,  0.74211893,\n",
       "        1.15065212, -0.86867056,  0.11012973,  0.53761116, -0.75743581,\n",
       "       -0.20978513, -0.02359646, -0.29908135,  0.08671869,  0.20829258,\n",
       "       -0.36677122, -1.14664746, -0.5056698 , -0.19600752])"
      ]
     },
     "metadata": {},
     "execution_count": 39
    }
   ],
   "source": [
    "from sklearn.preprocessing import StandardScaler\n",
    "\n",
    "sc = StandardScaler()\n",
    "scaled_X = sc.fit_transform(digits.data)\n",
    "scaled_X[0]"
   ]
  },
  {
   "cell_type": "code",
   "execution_count": null,
   "metadata": {
    "colab": {
     "base_uri": "https://localhost:8080/"
    },
    "id": "WiOzRkKJiS2M",
    "outputId": "216970f4-53b4-492e-e144-61883d58cc29",
    "pycharm": {
     "name": "#%%\n"
    }
   },
   "outputs": [
    {
     "output_type": "stream",
     "name": "stdout",
     "text": [
      "Reduced from (1797, 64) to (1797, 2)\n"
     ]
    }
   ],
   "source": [
    "pca = PCA(n_components=2)\n",
    "X_pca = pca.fit_transform(scaled_X)\n",
    "print(f\"Reduced from {scaled_X.shape} to {X_pca.shape}\")"
   ]
  },
  {
   "cell_type": "code",
   "execution_count": null,
   "metadata": {
    "colab": {
     "base_uri": "https://localhost:8080/"
    },
    "id": "uBO-iPbniS2M",
    "outputId": "5f0e04b5-7718-4f10-dc63-ca691fa5c220",
    "pycharm": {
     "name": "#%%\n"
    }
   },
   "outputs": [
    {
     "output_type": "execute_result",
     "data": {
      "text/plain": [
       "        PC1       PC2  label\n",
       "0  1.914209 -0.954525      0\n",
       "1  0.588991  0.924679      1\n",
       "2  1.302033 -0.317249      2\n",
       "3 -3.020767 -0.868721      3\n",
       "4  4.528938 -1.093530      4"
      ],
      "text/html": [
       "\n",
       "  <div id=\"df-4356691e-045b-4a3f-a2bf-65e2f950c40b\">\n",
       "    <div class=\"colab-df-container\">\n",
       "      <div>\n",
       "<style scoped>\n",
       "    .dataframe tbody tr th:only-of-type {\n",
       "        vertical-align: middle;\n",
       "    }\n",
       "\n",
       "    .dataframe tbody tr th {\n",
       "        vertical-align: top;\n",
       "    }\n",
       "\n",
       "    .dataframe thead th {\n",
       "        text-align: right;\n",
       "    }\n",
       "</style>\n",
       "<table border=\"1\" class=\"dataframe\">\n",
       "  <thead>\n",
       "    <tr style=\"text-align: right;\">\n",
       "      <th></th>\n",
       "      <th>PC1</th>\n",
       "      <th>PC2</th>\n",
       "      <th>label</th>\n",
       "    </tr>\n",
       "  </thead>\n",
       "  <tbody>\n",
       "    <tr>\n",
       "      <th>0</th>\n",
       "      <td>1.914209</td>\n",
       "      <td>-0.954525</td>\n",
       "      <td>0</td>\n",
       "    </tr>\n",
       "    <tr>\n",
       "      <th>1</th>\n",
       "      <td>0.588991</td>\n",
       "      <td>0.924679</td>\n",
       "      <td>1</td>\n",
       "    </tr>\n",
       "    <tr>\n",
       "      <th>2</th>\n",
       "      <td>1.302033</td>\n",
       "      <td>-0.317249</td>\n",
       "      <td>2</td>\n",
       "    </tr>\n",
       "    <tr>\n",
       "      <th>3</th>\n",
       "      <td>-3.020767</td>\n",
       "      <td>-0.868721</td>\n",
       "      <td>3</td>\n",
       "    </tr>\n",
       "    <tr>\n",
       "      <th>4</th>\n",
       "      <td>4.528938</td>\n",
       "      <td>-1.093530</td>\n",
       "      <td>4</td>\n",
       "    </tr>\n",
       "  </tbody>\n",
       "</table>\n",
       "</div>\n",
       "      <button class=\"colab-df-convert\" onclick=\"convertToInteractive('df-4356691e-045b-4a3f-a2bf-65e2f950c40b')\"\n",
       "              title=\"Convert this dataframe to an interactive table.\"\n",
       "              style=\"display:none;\">\n",
       "        \n",
       "  <svg xmlns=\"http://www.w3.org/2000/svg\" height=\"24px\"viewBox=\"0 0 24 24\"\n",
       "       width=\"24px\">\n",
       "    <path d=\"M0 0h24v24H0V0z\" fill=\"none\"/>\n",
       "    <path d=\"M18.56 5.44l.94 2.06.94-2.06 2.06-.94-2.06-.94-.94-2.06-.94 2.06-2.06.94zm-11 1L8.5 8.5l.94-2.06 2.06-.94-2.06-.94L8.5 2.5l-.94 2.06-2.06.94zm10 10l.94 2.06.94-2.06 2.06-.94-2.06-.94-.94-2.06-.94 2.06-2.06.94z\"/><path d=\"M17.41 7.96l-1.37-1.37c-.4-.4-.92-.59-1.43-.59-.52 0-1.04.2-1.43.59L10.3 9.45l-7.72 7.72c-.78.78-.78 2.05 0 2.83L4 21.41c.39.39.9.59 1.41.59.51 0 1.02-.2 1.41-.59l7.78-7.78 2.81-2.81c.8-.78.8-2.07 0-2.86zM5.41 20L4 18.59l7.72-7.72 1.47 1.35L5.41 20z\"/>\n",
       "  </svg>\n",
       "      </button>\n",
       "      \n",
       "  <style>\n",
       "    .colab-df-container {\n",
       "      display:flex;\n",
       "      flex-wrap:wrap;\n",
       "      gap: 12px;\n",
       "    }\n",
       "\n",
       "    .colab-df-convert {\n",
       "      background-color: #E8F0FE;\n",
       "      border: none;\n",
       "      border-radius: 50%;\n",
       "      cursor: pointer;\n",
       "      display: none;\n",
       "      fill: #1967D2;\n",
       "      height: 32px;\n",
       "      padding: 0 0 0 0;\n",
       "      width: 32px;\n",
       "    }\n",
       "\n",
       "    .colab-df-convert:hover {\n",
       "      background-color: #E2EBFA;\n",
       "      box-shadow: 0px 1px 2px rgba(60, 64, 67, 0.3), 0px 1px 3px 1px rgba(60, 64, 67, 0.15);\n",
       "      fill: #174EA6;\n",
       "    }\n",
       "\n",
       "    [theme=dark] .colab-df-convert {\n",
       "      background-color: #3B4455;\n",
       "      fill: #D2E3FC;\n",
       "    }\n",
       "\n",
       "    [theme=dark] .colab-df-convert:hover {\n",
       "      background-color: #434B5C;\n",
       "      box-shadow: 0px 1px 3px 1px rgba(0, 0, 0, 0.15);\n",
       "      filter: drop-shadow(0px 1px 2px rgba(0, 0, 0, 0.3));\n",
       "      fill: #FFFFFF;\n",
       "    }\n",
       "  </style>\n",
       "\n",
       "      <script>\n",
       "        const buttonEl =\n",
       "          document.querySelector('#df-4356691e-045b-4a3f-a2bf-65e2f950c40b button.colab-df-convert');\n",
       "        buttonEl.style.display =\n",
       "          google.colab.kernel.accessAllowed ? 'block' : 'none';\n",
       "\n",
       "        async function convertToInteractive(key) {\n",
       "          const element = document.querySelector('#df-4356691e-045b-4a3f-a2bf-65e2f950c40b');\n",
       "          const dataTable =\n",
       "            await google.colab.kernel.invokeFunction('convertToInteractive',\n",
       "                                                     [key], {});\n",
       "          if (!dataTable) return;\n",
       "\n",
       "          const docLinkHtml = 'Like what you see? Visit the ' +\n",
       "            '<a target=\"_blank\" href=https://colab.research.google.com/notebooks/data_table.ipynb>data table notebook</a>'\n",
       "            + ' to learn more about interactive tables.';\n",
       "          element.innerHTML = '';\n",
       "          dataTable['output_type'] = 'display_data';\n",
       "          await google.colab.output.renderOutput(dataTable, element);\n",
       "          const docLink = document.createElement('div');\n",
       "          docLink.innerHTML = docLinkHtml;\n",
       "          element.appendChild(docLink);\n",
       "        }\n",
       "      </script>\n",
       "    </div>\n",
       "  </div>\n",
       "  "
      ]
     },
     "metadata": {},
     "execution_count": 41
    }
   ],
   "source": [
    "PC1 = X_pca[:,0]\n",
    "PC2 = X_pca[:,1]\n",
    "df = pd.DataFrame({'PC1': PC1, 'PC2': PC2, 'label': digits.target})\n",
    "df.head()"
   ]
  },
  {
   "cell_type": "code",
   "execution_count": null,
   "metadata": {
    "colab": {
     "base_uri": "https://localhost:8080/"
    },
    "id": "_I2lGEbuiS2N",
    "outputId": "2da89909-2dfb-473c-973a-c98fd0cd7a94",
    "pycharm": {
     "name": "#%%\n"
    }
   },
   "outputs": [
    {
     "output_type": "execute_result",
     "data": {
      "text/plain": [
       "3    183\n",
       "1    182\n",
       "5    182\n",
       "4    181\n",
       "6    181\n",
       "9    180\n",
       "7    179\n",
       "0    178\n",
       "2    177\n",
       "8    174\n",
       "Name: label, dtype: int64"
      ]
     },
     "metadata": {},
     "execution_count": 42
    }
   ],
   "source": [
    "df['label'].value_counts()"
   ]
  },
  {
   "cell_type": "code",
   "execution_count": null,
   "metadata": {
    "colab": {
     "base_uri": "https://localhost:8080/"
    },
    "id": "g5Zyu_EriS2N",
    "outputId": "3848c56d-5d58-4663-9f7a-cbb7121eb69c",
    "pycharm": {
     "name": "#%%\n"
    }
   },
   "outputs": [
    {
     "output_type": "display_data",
     "data": {
      "text/plain": [
       "<Figure size 432x288 with 1 Axes>"
      ],
      "image/png": "[encoded data removed]"
     },
     "metadata": {
      "needs_background": "light"
     }
    }
   ],
   "source": [
    "import seaborn as sns\n",
    "\n",
    "sns.scatterplot(data=df, x=\"PC1\", y=\"PC2\", hue=\"label\", palette=\"husl\", legend='full')\n",
    "plt.xlabel('PC1', fontsize=14)\n",
    "plt.ylabel('PC2', fontsize=14)\n",
    "plt.legend(fontsize=13)\n",
    "plt.show()"
   ]
  },
  {
   "cell_type": "code",
   "execution_count": null,
   "metadata": {
    "colab": {
     "base_uri": "https://localhost:8080/"
    },
    "id": "kFWgb9JOiS2N",
    "outputId": "d207999b-1b47-4afd-cb17-53cf25135f61",
    "pycharm": {
     "name": "#%%\n"
    }
   },
   "outputs": [
    {
     "output_type": "display_data",
     "data": {
      "text/plain": [
       "<Figure size 432x288 with 2 Axes>"
      ],
      "image/png": "[encoded data removed]"
     },
     "metadata": {
      "needs_background": "light"
     }
    }
   ],
   "source": [
    "plt.scatter(df['PC1'], df['PC2'],\n",
    "            c=df['label'], edgecolor='none', alpha=0.5,\n",
    "            cmap=plt.cm.get_cmap('nipy_spectral', 10))\n",
    "plt.xlabel('PC1', fontsize=14)\n",
    "plt.ylabel('PC2', fontsize=14)\n",
    "plt.colorbar()\n",
    "plt.show()"
   ]
  },
  {
   "cell_type": "code",
   "execution_count": null,
   "metadata": {
    "colab": {
     "base_uri": "https://localhost:8080/"
    },
    "id": "2Bua8kgpiS2N",
    "outputId": "2f6eb02a-3a8d-45bb-a4a0-73b46741f8cc",
    "pycharm": {
     "name": "#%%\n"
    }
   },
   "outputs": [
    {
     "output_type": "execute_result",
     "data": {
      "text/plain": [
       "Index(['sepal_length', 'sepal_width', 'petal_length', 'petal_width'], dtype='object')"
      ]
     },
     "metadata": {},
     "execution_count": 45
    }
   ],
   "source": [
    "df_raw.columns[:-1]"
   ]
  },
  {
   "cell_type": "code",
   "execution_count": null,
   "metadata": {
    "colab": {
     "base_uri": "https://localhost:8080/"
    },
    "id": "KH3kYTaViS2N",
    "outputId": "19dde770-651f-4ca8-c88b-1bd76af8f3be",
    "pycharm": {
     "name": "#%%\n"
    }
   },
   "outputs": [
    {
     "output_type": "execute_result",
     "data": {
      "text/plain": [
       "(1797,)"
      ]
     },
     "metadata": {},
     "execution_count": 46
    }
   ],
   "source": [
    "PC1.shape"
   ]
  },
  {
   "cell_type": "code",
   "execution_count": null,
   "metadata": {
    "colab": {
     "base_uri": "https://localhost:8080/"
    },
    "id": "JxqzRUzFiS2N",
    "outputId": "18de869c-9838-449e-8381-bf4de8ea2f60",
    "pycharm": {
     "name": "#%%\n"
    }
   },
   "outputs": [
    {
     "output_type": "execute_result",
     "data": {
      "text/plain": [
       "(64, 2)"
      ]
     },
     "metadata": {},
     "execution_count": 47
    }
   ],
   "source": [
    "W_transpose = np.transpose(pca.components_)\n",
    "W_transpose.shape"
   ]
  },
  {
   "cell_type": "code",
   "execution_count": null,
   "metadata": {
    "colab": {
     "base_uri": "https://localhost:8080/"
    },
    "id": "lKD-SOW0iS2N",
    "outputId": "c9d45f8f-0706-4fa3-b054-2ac32be87c59",
    "pycharm": {
     "name": "#%%\n"
    }
   },
   "outputs": [
    {
     "output_type": "execute_result",
     "data": {
      "text/plain": [
       "(1797, 2)"
      ]
     },
     "metadata": {},
     "execution_count": 48
    }
   ],
   "source": [
    "# X_dash = PC1.reshape([-1,1])\n",
    "X_dash = df[['PC1','PC2']].to_numpy()\n",
    "X_dash.shape"
   ]
  },
  {
   "cell_type": "code",
   "execution_count": null,
   "metadata": {
    "colab": {
     "base_uri": "https://localhost:8080/"
    },
    "id": "vftgPMtOiS2N",
    "outputId": "8ccad37f-36a4-47f0-9ca1-03036e2c6549",
    "pycharm": {
     "name": "#%%\n"
    }
   },
   "outputs": [
    {
     "output_type": "execute_result",
     "data": {
      "text/plain": [
       "          1         2         3         4         5         6         7  \\\n",
       "0  1.914214 -0.954502 -3.946035  2.028723 -0.267173  0.530327 -1.415321   \n",
       "1  0.588980  0.924636  3.924755 -1.779850 -0.993430 -0.675652  1.878565   \n",
       "2  1.302039 -0.317189  3.023333 -2.043376 -2.081155  0.935121 -1.296200   \n",
       "3 -3.020770 -0.868772 -0.801744 -2.187039 -0.556813  0.727124  0.959766   \n",
       "4  4.528949 -1.093480  0.973121 -1.419510 -1.715106  1.431592  1.073649   \n",
       "\n",
       "          8         9        10  ...        56        57        58        59  \\\n",
       "0  1.496062  0.124914 -0.822246  ... -0.184659 -0.152393  0.486203  0.009390   \n",
       "1  0.556336  1.079877  0.087451  ...  0.267950 -0.511874 -0.422479 -0.090586   \n",
       "2  1.156160  0.785606 -1.099206  ...  0.067011  0.112209  0.034327  0.444446   \n",
       "3 -1.382638  0.259075  0.744555  ...  0.264125  0.018912 -0.153687  0.275277   \n",
       "4 -0.968240 -1.660216  1.174593  ... -0.098695  0.292078  0.157340 -0.122873   \n",
       "\n",
       "         60        61            62            63            64  label  \n",
       "0 -0.009188 -0.027512 -0.000000e+00  0.000000e+00  8.243855e-15      0  \n",
       "1  0.127878 -0.103101  7.089378e-16  1.992715e-16  3.086705e-17      1  \n",
       "2 -0.518823  0.179429  3.286993e-16  1.250280e-16  2.155553e-17      2  \n",
       "3 -0.115922  0.101748 -8.117060e-17 -1.491027e-16  1.432069e-17      3  \n",
       "4 -0.084901 -0.072045  4.624149e-16  8.759085e-17  9.037551e-18      4  \n",
       "\n",
       "[5 rows x 65 columns]"
      ],
      "text/html": [
       "\n",
       "  <div id=\"df-f15b82c9-cf97-4142-a11a-8f7072f93d45\">\n",
       "    <div class=\"colab-df-container\">\n",
       "      <div>\n",
       "<style scoped>\n",
       "    .dataframe tbody tr th:only-of-type {\n",
       "        vertical-align: middle;\n",
       "    }\n",
       "\n",
       "    .dataframe tbody tr th {\n",
       "        vertical-align: top;\n",
       "    }\n",
       "\n",
       "    .dataframe thead th {\n",
       "        text-align: right;\n",
       "    }\n",
       "</style>\n",
       "<table border=\"1\" class=\"dataframe\">\n",
       "  <thead>\n",
       "    <tr style=\"text-align: right;\">\n",
       "      <th></th>\n",
       "      <th>1</th>\n",
       "      <th>2</th>\n",
       "      <th>3</th>\n",
       "      <th>4</th>\n",
       "      <th>5</th>\n",
       "      <th>6</th>\n",
       "      <th>7</th>\n",
       "      <th>8</th>\n",
       "      <th>9</th>\n",
       "      <th>10</th>\n",
       "      <th>...</th>\n",
       "      <th>56</th>\n",
       "      <th>57</th>\n",
       "      <th>58</th>\n",
       "      <th>59</th>\n",
       "      <th>60</th>\n",
       "      <th>61</th>\n",
       "      <th>62</th>\n",
       "      <th>63</th>\n",
       "      <th>64</th>\n",
       "      <th>label</th>\n",
       "    </tr>\n",
       "  </thead>\n",
       "  <tbody>\n",
       "    <tr>\n",
       "      <th>0</th>\n",
       "      <td>1.914214</td>\n",
       "      <td>-0.954502</td>\n",
       "      <td>-3.946035</td>\n",
       "      <td>2.028723</td>\n",
       "      <td>-0.267173</td>\n",
       "      <td>0.530327</td>\n",
       "      <td>-1.415321</td>\n",
       "      <td>1.496062</td>\n",
       "      <td>0.124914</td>\n",
       "      <td>-0.822246</td>\n",
       "      <td>...</td>\n",
       "      <td>-0.184659</td>\n",
       "      <td>-0.152393</td>\n",
       "      <td>0.486203</td>\n",
       "      <td>0.009390</td>\n",
       "      <td>-0.009188</td>\n",
       "      <td>-0.027512</td>\n",
       "      <td>-0.000000e+00</td>\n",
       "      <td>0.000000e+00</td>\n",
       "      <td>8.243855e-15</td>\n",
       "      <td>0</td>\n",
       "    </tr>\n",
       "    <tr>\n",
       "      <th>1</th>\n",
       "      <td>0.588980</td>\n",
       "      <td>0.924636</td>\n",
       "      <td>3.924755</td>\n",
       "      <td>-1.779850</td>\n",
       "      <td>-0.993430</td>\n",
       "      <td>-0.675652</td>\n",
       "      <td>1.878565</td>\n",
       "      <td>0.556336</td>\n",
       "      <td>1.079877</td>\n",
       "      <td>0.087451</td>\n",
       "      <td>...</td>\n",
       "      <td>0.267950</td>\n",
       "      <td>-0.511874</td>\n",
       "      <td>-0.422479</td>\n",
       "      <td>-0.090586</td>\n",
       "      <td>0.127878</td>\n",
       "      <td>-0.103101</td>\n",
       "      <td>7.089378e-16</td>\n",
       "      <td>1.992715e-16</td>\n",
       "      <td>3.086705e-17</td>\n",
       "      <td>1</td>\n",
       "    </tr>\n",
       "    <tr>\n",
       "      <th>2</th>\n",
       "      <td>1.302039</td>\n",
       "      <td>-0.317189</td>\n",
       "      <td>3.023333</td>\n",
       "      <td>-2.043376</td>\n",
       "      <td>-2.081155</td>\n",
       "      <td>0.935121</td>\n",
       "      <td>-1.296200</td>\n",
       "      <td>1.156160</td>\n",
       "      <td>0.785606</td>\n",
       "      <td>-1.099206</td>\n",
       "      <td>...</td>\n",
       "      <td>0.067011</td>\n",
       "      <td>0.112209</td>\n",
       "      <td>0.034327</td>\n",
       "      <td>0.444446</td>\n",
       "      <td>-0.518823</td>\n",
       "      <td>0.179429</td>\n",
       "      <td>3.286993e-16</td>\n",
       "      <td>1.250280e-16</td>\n",
       "      <td>2.155553e-17</td>\n",
       "      <td>2</td>\n",
       "    </tr>\n",
       "    <tr>\n",
       "      <th>3</th>\n",
       "      <td>-3.020770</td>\n",
       "      <td>-0.868772</td>\n",
       "      <td>-0.801744</td>\n",
       "      <td>-2.187039</td>\n",
       "      <td>-0.556813</td>\n",
       "      <td>0.727124</td>\n",
       "      <td>0.959766</td>\n",
       "      <td>-1.382638</td>\n",
       "      <td>0.259075</td>\n",
       "      <td>0.744555</td>\n",
       "      <td>...</td>\n",
       "      <td>0.264125</td>\n",
       "      <td>0.018912</td>\n",
       "      <td>-0.153687</td>\n",
       "      <td>0.275277</td>\n",
       "      <td>-0.115922</td>\n",
       "      <td>0.101748</td>\n",
       "      <td>-8.117060e-17</td>\n",
       "      <td>-1.491027e-16</td>\n",
       "      <td>1.432069e-17</td>\n",
       "      <td>3</td>\n",
       "    </tr>\n",
       "    <tr>\n",
       "      <th>4</th>\n",
       "      <td>4.528949</td>\n",
       "      <td>-1.093480</td>\n",
       "      <td>0.973121</td>\n",
       "      <td>-1.419510</td>\n",
       "      <td>-1.715106</td>\n",
       "      <td>1.431592</td>\n",
       "      <td>1.073649</td>\n",
       "      <td>-0.968240</td>\n",
       "      <td>-1.660216</td>\n",
       "      <td>1.174593</td>\n",
       "      <td>...</td>\n",
       "      <td>-0.098695</td>\n",
       "      <td>0.292078</td>\n",
       "      <td>0.157340</td>\n",
       "      <td>-0.122873</td>\n",
       "      <td>-0.084901</td>\n",
       "      <td>-0.072045</td>\n",
       "      <td>4.624149e-16</td>\n",
       "      <td>8.759085e-17</td>\n",
       "      <td>9.037551e-18</td>\n",
       "      <td>4</td>\n",
       "    </tr>\n",
       "  </tbody>\n",
       "</table>\n",
       "<p>5 rows × 65 columns</p>\n",
       "</div>\n",
       "      <button class=\"colab-df-convert\" onclick=\"convertToInteractive('df-f15b82c9-cf97-4142-a11a-8f7072f93d45')\"\n",
       "              title=\"Convert this dataframe to an interactive table.\"\n",
       "              style=\"display:none;\">\n",
       "        \n",
       "  <svg xmlns=\"http://www.w3.org/2000/svg\" height=\"24px\"viewBox=\"0 0 24 24\"\n",
       "       width=\"24px\">\n",
       "    <path d=\"M0 0h24v24H0V0z\" fill=\"none\"/>\n",
       "    <path d=\"M18.56 5.44l.94 2.06.94-2.06 2.06-.94-2.06-.94-.94-2.06-.94 2.06-2.06.94zm-11 1L8.5 8.5l.94-2.06 2.06-.94-2.06-.94L8.5 2.5l-.94 2.06-2.06.94zm10 10l.94 2.06.94-2.06 2.06-.94-2.06-.94-.94-2.06-.94 2.06-2.06.94z\"/><path d=\"M17.41 7.96l-1.37-1.37c-.4-.4-.92-.59-1.43-.59-.52 0-1.04.2-1.43.59L10.3 9.45l-7.72 7.72c-.78.78-.78 2.05 0 2.83L4 21.41c.39.39.9.59 1.41.59.51 0 1.02-.2 1.41-.59l7.78-7.78 2.81-2.81c.8-.78.8-2.07 0-2.86zM5.41 20L4 18.59l7.72-7.72 1.47 1.35L5.41 20z\"/>\n",
       "  </svg>\n",
       "      </button>\n",
       "      \n",
       "  <style>\n",
       "    .colab-df-container {\n",
       "      display:flex;\n",
       "      flex-wrap:wrap;\n",
       "      gap: 12px;\n",
       "    }\n",
       "\n",
       "    .colab-df-convert {\n",
       "      background-color: #E8F0FE;\n",
       "      border: none;\n",
       "      border-radius: 50%;\n",
       "      cursor: pointer;\n",
       "      display: none;\n",
       "      fill: #1967D2;\n",
       "      height: 32px;\n",
       "      padding: 0 0 0 0;\n",
       "      width: 32px;\n",
       "    }\n",
       "\n",
       "    .colab-df-convert:hover {\n",
       "      background-color: #E2EBFA;\n",
       "      box-shadow: 0px 1px 2px rgba(60, 64, 67, 0.3), 0px 1px 3px 1px rgba(60, 64, 67, 0.15);\n",
       "      fill: #174EA6;\n",
       "    }\n",
       "\n",
       "    [theme=dark] .colab-df-convert {\n",
       "      background-color: #3B4455;\n",
       "      fill: #D2E3FC;\n",
       "    }\n",
       "\n",
       "    [theme=dark] .colab-df-convert:hover {\n",
       "      background-color: #434B5C;\n",
       "      box-shadow: 0px 1px 3px 1px rgba(0, 0, 0, 0.15);\n",
       "      filter: drop-shadow(0px 1px 2px rgba(0, 0, 0, 0.3));\n",
       "      fill: #FFFFFF;\n",
       "    }\n",
       "  </style>\n",
       "\n",
       "      <script>\n",
       "        const buttonEl =\n",
       "          document.querySelector('#df-f15b82c9-cf97-4142-a11a-8f7072f93d45 button.colab-df-convert');\n",
       "        buttonEl.style.display =\n",
       "          google.colab.kernel.accessAllowed ? 'block' : 'none';\n",
       "\n",
       "        async function convertToInteractive(key) {\n",
       "          const element = document.querySelector('#df-f15b82c9-cf97-4142-a11a-8f7072f93d45');\n",
       "          const dataTable =\n",
       "            await google.colab.kernel.invokeFunction('convertToInteractive',\n",
       "                                                     [key], {});\n",
       "          if (!dataTable) return;\n",
       "\n",
       "          const docLinkHtml = 'Like what you see? Visit the ' +\n",
       "            '<a target=\"_blank\" href=https://colab.research.google.com/notebooks/data_table.ipynb>data table notebook</a>'\n",
       "            + ' to learn more about interactive tables.';\n",
       "          element.innerHTML = '';\n",
       "          dataTable['output_type'] = 'display_data';\n",
       "          await google.colab.output.renderOutput(dataTable, element);\n",
       "          const docLink = document.createElement('div');\n",
       "          docLink.innerHTML = docLinkHtml;\n",
       "          element.appendChild(docLink);\n",
       "        }\n",
       "      </script>\n",
       "    </div>\n",
       "  </div>\n",
       "  "
      ]
     },
     "metadata": {},
     "execution_count": 49
    }
   ],
   "source": [
    "from sklearn.preprocessing import StandardScaler\n",
    "\n",
    "sc = StandardScaler()\n",
    "scaled_X = sc.fit_transform(digits.data)\n",
    "scaled_X[0]\n",
    "\n",
    "pca = PCA(n_components=64)\n",
    "X_pca = pca.fit_transform(scaled_X)\n",
    "df = pd.DataFrame(X_pca, columns=np.arange(1,65))\n",
    "df['label'] = digits.target\n",
    "df.head()"
   ]
  },
  {
   "cell_type": "code",
   "execution_count": null,
   "metadata": {
    "id": "l3Znlc31iS2N",
    "pycharm": {
     "name": "#%%\n"
    }
   },
   "outputs": [],
   "source": [
    "def plot_reconstructed_digits(num_comp=1):\n",
    "    X_dash = df.iloc[:,:num_comp].to_numpy()\n",
    "    recovered_standardized = np.dot(X_dash, pca.components_[:num_comp])\n",
    "    recovered = sc.inverse_transform(recovered_standardized)\n",
    "    show_digits(recovered)"
   ]
  },
  {
   "cell_type": "code",
   "execution_count": null,
   "metadata": {
    "colab": {
     "base_uri": "https://localhost:8080/"
    },
    "id": "P2FWDumkiS2O",
    "outputId": "6035ca69-9f16-49b6-ec2c-21898fec55b4",
    "pycharm": {
     "name": "#%%\n"
    }
   },
   "outputs": [
    {
     "output_type": "display_data",
     "data": {
      "text/plain": [
       "<Figure size 576x288 with 40 Axes>"
      ],
      "image/png": "[encoded data removed]"
     },
     "metadata": {}
    }
   ],
   "source": [
    "plot_reconstructed_digits(2)"
   ]
  },
  {
   "cell_type": "code",
   "execution_count": null,
   "metadata": {
    "colab": {
     "base_uri": "https://localhost:8080/"
    },
    "id": "o2aOfGiYiS2O",
    "outputId": "0f846506-201b-4b0a-cde1-af8951e39a2e",
    "pycharm": {
     "name": "#%%\n"
    }
   },
   "outputs": [
    {
     "output_type": "execute_result",
     "data": {
      "text/plain": [
       "0.21594970500832816"
      ]
     },
     "metadata": {},
     "execution_count": 52
    }
   ],
   "source": [
    "np.sum(pca.explained_variance_ratio_[:2])"
   ]
  },
  {
   "cell_type": "code",
   "execution_count": null,
   "metadata": {
    "colab": {
     "base_uri": "https://localhost:8080/"
    },
    "id": "pZBQ73ahiS2O",
    "outputId": "a1783e06-1573-4796-f89b-842aa465fd0c",
    "pycharm": {
     "name": "#%%\n"
    }
   },
   "outputs": [
    {
     "output_type": "display_data",
     "data": {
      "text/plain": [
       "<Figure size 576x288 with 40 Axes>"
      ],
      "image/png": "[encoded data removed]"
     },
     "metadata": {}
    }
   ],
   "source": [
    "plot_reconstructed_digits(10)"
   ]
  },
  {
   "cell_type": "code",
   "execution_count": null,
   "metadata": {
    "colab": {
     "base_uri": "https://localhost:8080/"
    },
    "id": "JAExEp-8iS2O",
    "outputId": "e5cd2fa8-d966-4817-d995-293915781bc1",
    "pycharm": {
     "name": "#%%\n"
    }
   },
   "outputs": [
    {
     "output_type": "execute_result",
     "data": {
      "text/plain": [
       "0.5887375533730299"
      ]
     },
     "metadata": {},
     "execution_count": 54
    }
   ],
   "source": [
    "np.sum(pca.explained_variance_ratio_[:10])"
   ]
  },
  {
   "cell_type": "code",
   "execution_count": null,
   "metadata": {
    "colab": {
     "base_uri": "https://localhost:8080/"
    },
    "id": "Aq-jzyVciS2O",
    "outputId": "36fb8d32-b882-446f-f706-25f4cc78c834",
    "pycharm": {
     "name": "#%%\n"
    }
   },
   "outputs": [
    {
     "output_type": "display_data",
     "data": {
      "text/plain": [
       "<Figure size 576x288 with 40 Axes>"
      ],
      "image/png": "[encoded data removed]"
     },
     "metadata": {}
    }
   ],
   "source": [
    "plot_reconstructed_digits(40)"
   ]
  },
  {
   "cell_type": "code",
   "execution_count": null,
   "metadata": {
    "colab": {
     "base_uri": "https://localhost:8080/"
    },
    "id": "fQiZKnW5iS2O",
    "outputId": "813c7587-4574-4b71-db0a-b29a31d7a4ed",
    "pycharm": {
     "name": "#%%\n"
    }
   },
   "outputs": [
    {
     "output_type": "execute_result",
     "data": {
      "text/plain": [
       "0.9507791125066465"
      ]
     },
     "metadata": {},
     "execution_count": 56
    }
   ],
   "source": [
    "np.sum(pca.explained_variance_ratio_[:40])"
   ]
  },
  {
   "cell_type": "code",
   "execution_count": null,
   "metadata": {
    "colab": {
     "base_uri": "https://localhost:8080/"
    },
    "id": "XdLdqLw-iS2O",
    "outputId": "d9ec02c0-cbf3-42f0-9c04-3e90f304f2e5",
    "pycharm": {
     "name": "#%%\n"
    }
   },
   "outputs": [
    {
     "output_type": "display_data",
     "data": {
      "text/plain": [
       "<Figure size 576x288 with 40 Axes>"
      ],
      "image/png": "[encoded data removed]"
     },
     "metadata": {}
    }
   ],
   "source": [
    "plot_reconstructed_digits(64)"
   ]
  },
  {
   "cell_type": "code",
   "execution_count": null,
   "metadata": {
    "colab": {
     "base_uri": "https://localhost:8080/"
    },
    "id": "OFstyFCEiS2O",
    "outputId": "bf2ed51e-8a83-40b4-c6cd-304a860fed87",
    "pycharm": {
     "name": "#%%\n"
    }
   },
   "outputs": [
    {
     "output_type": "execute_result",
     "data": {
      "text/plain": [
       "1.0000000000000002"
      ]
     },
     "metadata": {},
     "execution_count": 58
    }
   ],
   "source": [
    "np.sum(pca.explained_variance_ratio_[:64])"
   ]
  },
  {
   "cell_type": "code",
   "execution_count": null,
   "metadata": {
    "colab": {
     "base_uri": "https://localhost:8080/"
    },
    "id": "BHQ1x3n-iS2O",
    "outputId": "8dd067f8-4f2d-4354-d5b7-728bb4053a2f",
    "pycharm": {
     "name": "#%%\n"
    }
   },
   "outputs": [
    {
     "output_type": "execute_result",
     "data": {
      "text/plain": [
       "          1         2         3         4         5         6         7  \\\n",
       "0  1.914214 -0.954502 -3.946035  2.028723 -0.267173  0.530327 -1.415321   \n",
       "1  0.588980  0.924636  3.924755 -1.779850 -0.993430 -0.675652  1.878565   \n",
       "2  1.302039 -0.317189  3.023333 -2.043376 -2.081155  0.935121 -1.296200   \n",
       "3 -3.020770 -0.868772 -0.801744 -2.187039 -0.556813  0.727124  0.959766   \n",
       "4  4.528949 -1.093480  0.973121 -1.419510 -1.715106  1.431592  1.073649   \n",
       "\n",
       "          8         9        10  ...        13        14        15        16  \\\n",
       "0  1.496062  0.124914 -0.822246  ...  0.228125 -0.195142  0.837040  0.104341   \n",
       "1  0.556336  1.079877  0.087451  ... -0.048361 -0.392054 -0.744412 -0.214072   \n",
       "2  1.156160  0.785606 -1.099206  ... -0.566874 -0.995772 -1.170505  0.399017   \n",
       "3 -1.382638  0.259075  0.744555  ... -0.166579  1.008790 -0.141893 -1.000781   \n",
       "4 -0.968240 -1.660216  1.174593  ... -0.343716 -0.113469  0.732635  0.210692   \n",
       "\n",
       "         17        18        19        20        21  label  \n",
       "0  0.185323 -0.090057  0.412754  0.430517  0.450994      0  \n",
       "1 -0.101727 -0.422000  0.553085 -0.069676  0.909818      1  \n",
       "2 -0.240298 -0.465223 -1.065556 -1.133454 -0.525917      2  \n",
       "3 -0.950687 -0.400034  1.490825  0.308128  0.560421      3  \n",
       "4 -0.094411 -0.552371  1.613976  1.086368  0.495644      4  \n",
       "\n",
       "[5 rows x 22 columns]"
      ],
      "text/html": [
       "\n",
       "  <div id=\"df-02df4549-0042-418b-8be1-6200db26ec91\">\n",
       "    <div class=\"colab-df-container\">\n",
       "      <div>\n",
       "<style scoped>\n",
       "    .dataframe tbody tr th:only-of-type {\n",
       "        vertical-align: middle;\n",
       "    }\n",
       "\n",
       "    .dataframe tbody tr th {\n",
       "        vertical-align: top;\n",
       "    }\n",
       "\n",
       "    .dataframe thead th {\n",
       "        text-align: right;\n",
       "    }\n",
       "</style>\n",
       "<table border=\"1\" class=\"dataframe\">\n",
       "  <thead>\n",
       "    <tr style=\"text-align: right;\">\n",
       "      <th></th>\n",
       "      <th>1</th>\n",
       "      <th>2</th>\n",
       "      <th>3</th>\n",
       "      <th>4</th>\n",
       "      <th>5</th>\n",
       "      <th>6</th>\n",
       "      <th>7</th>\n",
       "      <th>8</th>\n",
       "      <th>9</th>\n",
       "      <th>10</th>\n",
       "      <th>...</th>\n",
       "      <th>13</th>\n",
       "      <th>14</th>\n",
       "      <th>15</th>\n",
       "      <th>16</th>\n",
       "      <th>17</th>\n",
       "      <th>18</th>\n",
       "      <th>19</th>\n",
       "      <th>20</th>\n",
       "      <th>21</th>\n",
       "      <th>label</th>\n",
       "    </tr>\n",
       "  </thead>\n",
       "  <tbody>\n",
       "    <tr>\n",
       "      <th>0</th>\n",
       "      <td>1.914214</td>\n",
       "      <td>-0.954502</td>\n",
       "      <td>-3.946035</td>\n",
       "      <td>2.028723</td>\n",
       "      <td>-0.267173</td>\n",
       "      <td>0.530327</td>\n",
       "      <td>-1.415321</td>\n",
       "      <td>1.496062</td>\n",
       "      <td>0.124914</td>\n",
       "      <td>-0.822246</td>\n",
       "      <td>...</td>\n",
       "      <td>0.228125</td>\n",
       "      <td>-0.195142</td>\n",
       "      <td>0.837040</td>\n",
       "      <td>0.104341</td>\n",
       "      <td>0.185323</td>\n",
       "      <td>-0.090057</td>\n",
       "      <td>0.412754</td>\n",
       "      <td>0.430517</td>\n",
       "      <td>0.450994</td>\n",
       "      <td>0</td>\n",
       "    </tr>\n",
       "    <tr>\n",
       "      <th>1</th>\n",
       "      <td>0.588980</td>\n",
       "      <td>0.924636</td>\n",
       "      <td>3.924755</td>\n",
       "      <td>-1.779850</td>\n",
       "      <td>-0.993430</td>\n",
       "      <td>-0.675652</td>\n",
       "      <td>1.878565</td>\n",
       "      <td>0.556336</td>\n",
       "      <td>1.079877</td>\n",
       "      <td>0.087451</td>\n",
       "      <td>...</td>\n",
       "      <td>-0.048361</td>\n",
       "      <td>-0.392054</td>\n",
       "      <td>-0.744412</td>\n",
       "      <td>-0.214072</td>\n",
       "      <td>-0.101727</td>\n",
       "      <td>-0.422000</td>\n",
       "      <td>0.553085</td>\n",
       "      <td>-0.069676</td>\n",
       "      <td>0.909818</td>\n",
       "      <td>1</td>\n",
       "    </tr>\n",
       "    <tr>\n",
       "      <th>2</th>\n",
       "      <td>1.302039</td>\n",
       "      <td>-0.317189</td>\n",
       "      <td>3.023333</td>\n",
       "      <td>-2.043376</td>\n",
       "      <td>-2.081155</td>\n",
       "      <td>0.935121</td>\n",
       "      <td>-1.296200</td>\n",
       "      <td>1.156160</td>\n",
       "      <td>0.785606</td>\n",
       "      <td>-1.099206</td>\n",
       "      <td>...</td>\n",
       "      <td>-0.566874</td>\n",
       "      <td>-0.995772</td>\n",
       "      <td>-1.170505</td>\n",
       "      <td>0.399017</td>\n",
       "      <td>-0.240298</td>\n",
       "      <td>-0.465223</td>\n",
       "      <td>-1.065556</td>\n",
       "      <td>-1.133454</td>\n",
       "      <td>-0.525917</td>\n",
       "      <td>2</td>\n",
       "    </tr>\n",
       "    <tr>\n",
       "      <th>3</th>\n",
       "      <td>-3.020770</td>\n",
       "      <td>-0.868772</td>\n",
       "      <td>-0.801744</td>\n",
       "      <td>-2.187039</td>\n",
       "      <td>-0.556813</td>\n",
       "      <td>0.727124</td>\n",
       "      <td>0.959766</td>\n",
       "      <td>-1.382638</td>\n",
       "      <td>0.259075</td>\n",
       "      <td>0.744555</td>\n",
       "      <td>...</td>\n",
       "      <td>-0.166579</td>\n",
       "      <td>1.008790</td>\n",
       "      <td>-0.141893</td>\n",
       "      <td>-1.000781</td>\n",
       "      <td>-0.950687</td>\n",
       "      <td>-0.400034</td>\n",
       "      <td>1.490825</td>\n",
       "      <td>0.308128</td>\n",
       "      <td>0.560421</td>\n",
       "      <td>3</td>\n",
       "    </tr>\n",
       "    <tr>\n",
       "      <th>4</th>\n",
       "      <td>4.528949</td>\n",
       "      <td>-1.093480</td>\n",
       "      <td>0.973121</td>\n",
       "      <td>-1.419510</td>\n",
       "      <td>-1.715106</td>\n",
       "      <td>1.431592</td>\n",
       "      <td>1.073649</td>\n",
       "      <td>-0.968240</td>\n",
       "      <td>-1.660216</td>\n",
       "      <td>1.174593</td>\n",
       "      <td>...</td>\n",
       "      <td>-0.343716</td>\n",
       "      <td>-0.113469</td>\n",
       "      <td>0.732635</td>\n",
       "      <td>0.210692</td>\n",
       "      <td>-0.094411</td>\n",
       "      <td>-0.552371</td>\n",
       "      <td>1.613976</td>\n",
       "      <td>1.086368</td>\n",
       "      <td>0.495644</td>\n",
       "      <td>4</td>\n",
       "    </tr>\n",
       "  </tbody>\n",
       "</table>\n",
       "<p>5 rows × 22 columns</p>\n",
       "</div>\n",
       "      <button class=\"colab-df-convert\" onclick=\"convertToInteractive('df-02df4549-0042-418b-8be1-6200db26ec91')\"\n",
       "              title=\"Convert this dataframe to an interactive table.\"\n",
       "              style=\"display:none;\">\n",
       "        \n",
       "  <svg xmlns=\"http://www.w3.org/2000/svg\" height=\"24px\"viewBox=\"0 0 24 24\"\n",
       "       width=\"24px\">\n",
       "    <path d=\"M0 0h24v24H0V0z\" fill=\"none\"/>\n",
       "    <path d=\"M18.56 5.44l.94 2.06.94-2.06 2.06-.94-2.06-.94-.94-2.06-.94 2.06-2.06.94zm-11 1L8.5 8.5l.94-2.06 2.06-.94-2.06-.94L8.5 2.5l-.94 2.06-2.06.94zm10 10l.94 2.06.94-2.06 2.06-.94-2.06-.94-.94-2.06-.94 2.06-2.06.94z\"/><path d=\"M17.41 7.96l-1.37-1.37c-.4-.4-.92-.59-1.43-.59-.52 0-1.04.2-1.43.59L10.3 9.45l-7.72 7.72c-.78.78-.78 2.05 0 2.83L4 21.41c.39.39.9.59 1.41.59.51 0 1.02-.2 1.41-.59l7.78-7.78 2.81-2.81c.8-.78.8-2.07 0-2.86zM5.41 20L4 18.59l7.72-7.72 1.47 1.35L5.41 20z\"/>\n",
       "  </svg>\n",
       "      </button>\n",
       "      \n",
       "  <style>\n",
       "    .colab-df-container {\n",
       "      display:flex;\n",
       "      flex-wrap:wrap;\n",
       "      gap: 12px;\n",
       "    }\n",
       "\n",
       "    .colab-df-convert {\n",
       "      background-color: #E8F0FE;\n",
       "      border: none;\n",
       "      border-radius: 50%;\n",
       "      cursor: pointer;\n",
       "      display: none;\n",
       "      fill: #1967D2;\n",
       "      height: 32px;\n",
       "      padding: 0 0 0 0;\n",
       "      width: 32px;\n",
       "    }\n",
       "\n",
       "    .colab-df-convert:hover {\n",
       "      background-color: #E2EBFA;\n",
       "      box-shadow: 0px 1px 2px rgba(60, 64, 67, 0.3), 0px 1px 3px 1px rgba(60, 64, 67, 0.15);\n",
       "      fill: #174EA6;\n",
       "    }\n",
       "\n",
       "    [theme=dark] .colab-df-convert {\n",
       "      background-color: #3B4455;\n",
       "      fill: #D2E3FC;\n",
       "    }\n",
       "\n",
       "    [theme=dark] .colab-df-convert:hover {\n",
       "      background-color: #434B5C;\n",
       "      box-shadow: 0px 1px 3px 1px rgba(0, 0, 0, 0.15);\n",
       "      filter: drop-shadow(0px 1px 2px rgba(0, 0, 0, 0.3));\n",
       "      fill: #FFFFFF;\n",
       "    }\n",
       "  </style>\n",
       "\n",
       "      <script>\n",
       "        const buttonEl =\n",
       "          document.querySelector('#df-02df4549-0042-418b-8be1-6200db26ec91 button.colab-df-convert');\n",
       "        buttonEl.style.display =\n",
       "          google.colab.kernel.accessAllowed ? 'block' : 'none';\n",
       "\n",
       "        async function convertToInteractive(key) {\n",
       "          const element = document.querySelector('#df-02df4549-0042-418b-8be1-6200db26ec91');\n",
       "          const dataTable =\n",
       "            await google.colab.kernel.invokeFunction('convertToInteractive',\n",
       "                                                     [key], {});\n",
       "          if (!dataTable) return;\n",
       "\n",
       "          const docLinkHtml = 'Like what you see? Visit the ' +\n",
       "            '<a target=\"_blank\" href=https://colab.research.google.com/notebooks/data_table.ipynb>data table notebook</a>'\n",
       "            + ' to learn more about interactive tables.';\n",
       "          element.innerHTML = '';\n",
       "          dataTable['output_type'] = 'display_data';\n",
       "          await google.colab.output.renderOutput(dataTable, element);\n",
       "          const docLink = document.createElement('div');\n",
       "          docLink.innerHTML = docLinkHtml;\n",
       "          element.appendChild(docLink);\n",
       "        }\n",
       "      </script>\n",
       "    </div>\n",
       "  </div>\n",
       "  "
      ]
     },
     "metadata": {},
     "execution_count": 59
    }
   ],
   "source": [
    "from sklearn.preprocessing import StandardScaler\n",
    "\n",
    "sc = StandardScaler()\n",
    "scaled_X = sc.fit_transform(digits.data)\n",
    "scaled_X[0]\n",
    "\n",
    "pca = PCA(0.8)\n",
    "X_pca = pca.fit_transform(scaled_X)\n",
    "df = pd.DataFrame(X_pca, columns=np.arange(1,X_pca.shape[1]+1))\n",
    "df['label'] = digits.target\n",
    "df.head()"
   ]
  },
  {
   "cell_type": "code",
   "execution_count": null,
   "metadata": {
    "colab": {
     "base_uri": "https://localhost:8080/"
    },
    "id": "RYMVdVw9iS2O",
    "outputId": "0245a59c-b6a8-4144-e348-5e2a9addaecd",
    "pycharm": {
     "name": "#%%\n"
    }
   },
   "outputs": [
    {
     "output_type": "execute_result",
     "data": {
      "text/plain": [
       "0.8066173226822604"
      ]
     },
     "metadata": {},
     "execution_count": 60
    }
   ],
   "source": [
    "np.sum(pca.explained_variance_ratio_)"
   ]
  },
  {
   "cell_type": "code",
   "execution_count": null,
   "metadata": {
    "colab": {
     "base_uri": "https://localhost:8080/"
    },
    "id": "okvIk3TdiS2O",
    "outputId": "62478c67-39a4-4d88-8f17-6fa36faadad4",
    "pycharm": {
     "name": "#%%\n"
    }
   },
   "outputs": [
    {
     "output_type": "display_data",
     "data": {
      "text/plain": [
       "<Figure size 576x288 with 40 Axes>"
      ],
      "image/png": "[encoded data removed]"
     },
     "metadata": {}
    }
   ],
   "source": [
    "plot_reconstructed_digits(num_comp=21)"
   ]
  },
  {
   "cell_type": "markdown",
   "metadata": {
    "id": "JxfvkopSiS2P",
    "pycharm": {
     "name": "#%% md\n"
    }
   },
   "source": [
    "# Using PCA to filter out noise"
   ]
  },
  {
   "cell_type": "code",
   "execution_count": null,
   "metadata": {
    "colab": {
     "base_uri": "https://localhost:8080/"
    },
    "id": "R0Bw7UUfiS2P",
    "outputId": "977e351c-c77b-4f41-bda8-5f1eeb08954a",
    "pycharm": {
     "name": "#%%\n"
    }
   },
   "outputs": [
    {
     "output_type": "display_data",
     "data": {
      "text/plain": [
       "<Figure size 576x288 with 40 Axes>"
      ],
      "image/png": "[encoded data removed]"
     },
     "metadata": {}
    }
   ],
   "source": [
    "np.random.seed(42)\n",
    "# The value 3 is the standard deviation \n",
    "noisy = np.random.normal(digits.data, 3)\n",
    "show_digits(noisy)"
   ]
  },
  {
   "cell_type": "code",
   "execution_count": null,
   "metadata": {
    "colab": {
     "base_uri": "https://localhost:8080/"
    },
    "id": "xOrNjo9tiS2P",
    "outputId": "2a4e4536-14df-4568-d073-195822e3a4d2",
    "pycharm": {
     "name": "#%%\n"
    }
   },
   "outputs": [
    {
     "output_type": "display_data",
     "data": {
      "text/plain": [
       "<Figure size 576x288 with 40 Axes>"
      ],
      "image/png": "[encoded data removed]"
     },
     "metadata": {}
    }
   ],
   "source": [
    "show_digits(digits.data)"
   ]
  },
  {
   "cell_type": "code",
   "execution_count": null,
   "metadata": {
    "colab": {
     "base_uri": "https://localhost:8080/"
    },
    "id": "iCiErt10iS2P",
    "outputId": "6e262fba-8f9f-48cf-87f1-fc35de85ebd5",
    "pycharm": {
     "name": "#%%\n"
    }
   },
   "outputs": [
    {
     "output_type": "display_data",
     "data": {
      "text/plain": [
       "<Figure size 576x288 with 40 Axes>"
      ],
      "image/png": "[encoded data removed]"
     },
     "metadata": {}
    }
   ],
   "source": [
    "sc = StandardScaler()\n",
    "scaled_X = sc.fit_transform(noisy)\n",
    "\n",
    "pca = PCA(0.4)\n",
    "X_pca = pca.fit_transform(scaled_X)\n",
    "num_components = X_pca.shape[1]\n",
    "df = pd.DataFrame(X_pca, columns=np.arange(1,num_components+1))\n",
    "df['label'] = digits.target\n",
    "plot_reconstructed_digits(num_comp=num_components)"
   ]
  },
  {
   "cell_type": "code",
   "execution_count": null,
   "metadata": {
    "colab": {
     "base_uri": "https://localhost:8080/"
    },
    "id": "4IOcTogbiS2P",
    "outputId": "dbc81bf5-4840-4189-a8d6-bd65397bac3e",
    "pycharm": {
     "name": "#%%\n"
    }
   },
   "outputs": [
    {
     "output_type": "execute_result",
     "data": {
      "text/plain": [
       "10"
      ]
     },
     "metadata": {},
     "execution_count": 65
    }
   ],
   "source": [
    "num_components"
   ]
  },
  {
   "cell_type": "markdown",
   "metadata": {
    "id": "PjrZIN6NiS2P",
    "pycharm": {
     "name": "#%% md\n"
    }
   },
   "source": [
    "# Using PCA to visualize the words"
   ]
  },
  {
   "cell_type": "code",
   "execution_count": null,
   "metadata": {
    "colab": {
     "base_uri": "https://localhost:8080/"
    },
    "id": "BwkNMZk0iS2P",
    "outputId": "324e367f-7429-47d0-a1dc-99c49671e512",
    "pycharm": {
     "name": "#%%\n"
    }
   },
   "outputs": [
    {
     "output_type": "stream",
     "name": "stdout",
     "text": [
      "[==================================================] 100.0% 66.0/66.0MB downloaded\n"
     ]
    },
    {
     "output_type": "execute_result",
     "data": {
      "text/plain": [
       "<gensim.models.keyedvectors.Word2VecKeyedVectors at 0x7f0afdfc4790>"
      ]
     },
     "metadata": {},
     "execution_count": 66
    }
   ],
   "source": [
    "import gensim.downloader as api\n",
    "model = api.load('glove-wiki-gigaword-50')\n",
    "model"
   ]
  },
  {
   "cell_type": "code",
   "execution_count": null,
   "metadata": {
    "colab": {
     "base_uri": "https://localhost:8080/"
    },
    "id": "TqvO_k8NiS2P",
    "outputId": "2057704f-3f2e-4d5c-845f-3e32fe696e6f",
    "pycharm": {
     "name": "#%%\n"
    }
   },
   "outputs": [
    {
     "output_type": "execute_result",
     "data": {
      "text/plain": [
       "array([-0.38497 ,  0.80092 ,  0.064106, -0.28355 , -0.026759, -0.34532 ,\n",
       "       -0.64253 , -0.11729 , -0.33257 ,  0.55243 , -0.087813,  0.9035  ,\n",
       "        0.47102 ,  0.56657 ,  0.6985  , -0.35229 , -0.86542 ,  0.90573 ,\n",
       "        0.03576 , -0.071705, -0.12327 ,  0.54923 ,  0.47005 ,  0.35572 ,\n",
       "        1.2611  , -0.67581 , -0.94983 ,  0.68666 ,  0.3871  , -1.3492  ,\n",
       "        0.63512 ,  0.46416 , -0.48814 ,  0.83827 , -0.9246  , -0.33722 ,\n",
       "        0.53741 , -1.0616  , -0.081403, -0.67111 ,  0.30923 , -0.3923  ,\n",
       "       -0.55002 , -0.68827 ,  0.58049 , -0.11626 ,  0.013139, -0.57654 ,\n",
       "        0.048833,  0.67204 ], dtype=float32)"
      ]
     },
     "metadata": {},
     "execution_count": 67
    }
   ],
   "source": [
    "model['hello']"
   ]
  },
  {
   "cell_type": "code",
   "execution_count": null,
   "metadata": {
    "colab": {
     "base_uri": "https://localhost:8080/"
    },
    "id": "BbpfcrzoiS2P",
    "outputId": "c7fbf4ca-099c-4e20-d9c7-1c90cf3f11f7",
    "pycharm": {
     "name": "#%%\n"
    }
   },
   "outputs": [
    {
     "output_type": "execute_result",
     "data": {
      "text/plain": [
       "array([-0.1252  ,  0.91598 , -0.15958 , -0.459   ,  0.34854 , -0.26754 ,\n",
       "       -0.48121 ,  0.98226 , -0.77214 ,  0.34111 , -0.4661  ,  0.5201  ,\n",
       "        0.12519 ,  0.076107,  0.86048 , -0.16353 , -0.75203 ,  0.096534,\n",
       "       -0.031755, -0.40957 , -0.069878,  0.86798 ,  0.09632 , -0.078638,\n",
       "        1.2082  , -0.7355  , -0.73916 ,  0.51452 ,  0.48377 , -0.99767 ,\n",
       "        0.961   ,  0.74651 , -0.47521 ,  1.2301  , -0.50896 , -0.27445 ,\n",
       "        0.77116 , -0.82405 , -0.10124 , -0.91294 ,  0.28855 , -0.38331 ,\n",
       "       -0.74    , -0.47328 ,  0.55932 , -0.12058 , -0.098498, -0.84487 ,\n",
       "       -0.21067 ,  0.048563], dtype=float32)"
      ]
     },
     "metadata": {},
     "execution_count": 68
    }
   ],
   "source": [
    "model['goodbye']"
   ]
  },
  {
   "cell_type": "code",
   "execution_count": null,
   "metadata": {
    "colab": {
     "base_uri": "https://localhost:8080/"
    },
    "id": "vWA1oqVZiS2P",
    "outputId": "60975265-5808-40df-cf80-23045a77678e",
    "pycharm": {
     "name": "#%%\n"
    }
   },
   "outputs": [
    {
     "output_type": "execute_result",
     "data": {
      "text/plain": [
       "(6, 50)"
      ]
     },
     "metadata": {},
     "execution_count": 69
    }
   ],
   "source": [
    "tokens = ['hello','goodbye','hey','car','vehicle','python']\n",
    "word_embeddings = np.array([model[token] for token in tokens])\n",
    "word_embeddings.shape"
   ]
  },
  {
   "cell_type": "code",
   "execution_count": null,
   "metadata": {
    "colab": {
     "base_uri": "https://localhost:8080/"
    },
    "id": "nT5IsjDGiS2P",
    "outputId": "fdd5b7af-31bd-4eb2-aaf9-d50715db03c2",
    "pycharm": {
     "name": "#%%\n"
    }
   },
   "outputs": [
    {
     "output_type": "display_data",
     "data": {
      "text/plain": [
       "<Figure size 324x324 with 1 Axes>"
      ],
      "image/png": "[encoded data removed]"
     },
     "metadata": {
      "needs_background": "light"
     }
    }
   ],
   "source": [
    "pca = PCA(n_components=2)\n",
    "result = pca.fit_transform(word_embeddings)\n",
    "PC1 = result[:, 0]\n",
    "PC2 = result[:, 1]\n",
    "plt.figure(figsize=(4.5,4.5))\n",
    "plt.scatter(PC1, PC2)\n",
    "plt.xlabel('PC1', fontsize=15)\n",
    "plt.ylabel('PC2', fontsize=15)\n",
    "for i, token in enumerate(tokens):\n",
    "    plt.annotate(token, (PC1[i], PC2[i]), fontsize=15)"
   ]
  },
  {
   "cell_type": "markdown",
   "metadata": {
    "id": "HbDZI0iTiS2P",
    "pycharm": {
     "name": "#%% md\n"
    }
   },
   "source": [
    "# Linear and non-linear data points"
   ]
  },
  {
   "cell_type": "code",
   "execution_count": null,
   "metadata": {
    "colab": {
     "base_uri": "https://localhost:8080/"
    },
    "id": "gq7DNBDciS2Q",
    "outputId": "b4ec7aca-5517-46c3-c765-f52a25e80c61",
    "pycharm": {
     "name": "#%%\n"
    }
   },
   "outputs": [
    {
     "output_type": "display_data",
     "data": {
      "text/plain": [
       "<Figure size 360x360 with 1 Axes>"
      ],
      "image/png": "[encoded data removed]"
     },
     "metadata": {
      "needs_background": "light"
     }
    }
   ],
   "source": [
    "import matplotlib.pyplot as plt\n",
    "from sklearn.datasets import make_blobs\n",
    "\n",
    "X, y = make_blobs(n_samples=500, centers=2, random_state=42)\n",
    "plt.figure(figsize=(5,5))\n",
    "sc = StandardScaler()\n",
    "Z = sc.fit_transform(X)\n",
    "plt.scatter(Z[:,0], Z[:,1], c=y, cmap=\"bwr_r\")\n",
    "plt.xlabel(\"$z_1$\", fontsize=15)\n",
    "plt.ylabel(\"$z_2$\", fontsize=15)\n",
    "plt.xlim(-2.5,2.5)\n",
    "plt.ylim(-2.5,2.5)\n",
    "plt.show()"
   ]
  },
  {
   "cell_type": "code",
   "execution_count": null,
   "metadata": {
    "colab": {
     "base_uri": "https://localhost:8080/"
    },
    "id": "La13D-qKiS2Q",
    "outputId": "f746de49-7216-48d2-9803-6672fbd48e36",
    "pycharm": {
     "name": "#%%\n"
    }
   },
   "outputs": [
    {
     "output_type": "display_data",
     "data": {
      "text/plain": [
       "<Figure size 360x288 with 1 Axes>"
      ],
      "image/png": "[encoded data removed]"
     },
     "metadata": {
      "needs_background": "light"
     }
    }
   ],
   "source": [
    "pca = PCA(n_components=1)\n",
    "X_pca = pca.fit_transform(Z)\n",
    "plt.figure(figsize=(5,4))\n",
    "plt.scatter(X_pca[:,0], np.zeros_like(X_pca[:,0]), c=y, cmap=\"bwr_r\", alpha=0.2)\n",
    "plt.xlabel(\"PC1\", fontsize=15)\n",
    "plt.show()"
   ]
  },
  {
   "cell_type": "code",
   "execution_count": null,
   "metadata": {
    "colab": {
     "base_uri": "https://localhost:8080/"
    },
    "id": "Rhs_fsVBiS2Q",
    "outputId": "100bb178-cfc4-49d3-ce3e-9aa210fddb7f",
    "pycharm": {
     "name": "#%%\n"
    }
   },
   "outputs": [
    {
     "output_type": "execute_result",
     "data": {
      "text/plain": [
       "array([[-0.70710678,  0.70710678]])"
      ]
     },
     "metadata": {},
     "execution_count": 73
    }
   ],
   "source": [
    "pca.components_"
   ]
  },
  {
   "cell_type": "code",
   "execution_count": null,
   "metadata": {
    "colab": {
     "base_uri": "https://localhost:8080/"
    },
    "id": "Es5mob8KiS2Q",
    "outputId": "e71528a7-0024-475b-cf9c-bd75109b3592",
    "pycharm": {
     "name": "#%%\n"
    }
   },
   "outputs": [
    {
     "output_type": "execute_result",
     "data": {
      "text/plain": [
       "array([0.96544072])"
      ]
     },
     "metadata": {},
     "execution_count": 74
    }
   ],
   "source": [
    "pca.explained_variance_ratio_"
   ]
  },
  {
   "cell_type": "code",
   "execution_count": null,
   "metadata": {
    "colab": {
     "base_uri": "https://localhost:8080/",
     "height": 54
    },
    "id": "2ip0GdmsiS2Q",
    "outputId": "b2dcc53d-4257-480c-fb25-e1beb75131f8",
    "pycharm": {
     "name": "#%%\n"
    }
   },
   "outputs": [
    {
     "output_type": "display_data",
     "data": {
      "text/plain": [
       "<Figure size 360x360 with 1 Axes>"
      ],
      "image/png": "[encoded data removed]"
     },
     "metadata": {
      "needs_background": "light"
     }
    }
   ],
   "source": [
    "xs = np.linspace(-5, 5, 100)\n",
    "ys = -xs\n",
    "X, y = make_blobs(n_samples=500, centers=2, random_state=42)\n",
    "plt.figure(figsize=(5,5))\n",
    "sc = StandardScaler()\n",
    "scaled_X = sc.fit_transform(X)\n",
    "plt.xlabel(\"$z_1$\", fontsize=15)\n",
    "plt.ylabel(\"$z_2$\", fontsize=15)\n",
    "plt.xlim(-2.5,2.5)\n",
    "plt.ylim(-2.5,2.5)\n",
    "plt.scatter(scaled_X[:,0], scaled_X[:,1], c=y, cmap=\"bwr_r\")\n",
    "plt.plot(xs, ys, color=\"green\")\n",
    "plt.show()"
   ]
  },
  {
   "cell_type": "code",
   "execution_count": null,
   "metadata": {
    "colab": {
     "base_uri": "https://localhost:8080/",
     "height": 54
    },
    "id": "CleNxsqoiS2Q",
    "outputId": "ce260af9-1dab-42f5-bd52-0f666aba4eb3",
    "pycharm": {
     "name": "#%%\n"
    }
   },
   "outputs": [
    {
     "output_type": "display_data",
     "data": {
      "text/plain": [
       "<Figure size 360x288 with 1 Axes>"
      ],
      "image/png": "[encoded data removed]"
     },
     "metadata": {
      "needs_background": "light"
     }
    }
   ],
   "source": [
    "recovered_standardized = np.dot(X_pca, pca.components_[:1])\n",
    "plt.figure(figsize=(5,4))\n",
    "plt.scatter(recovered_standardized[:,0], recovered_standardized[:,0], c=y, cmap=\"bwr_r\", alpha=0.2)\n",
    "plt.xlabel(\"$z_1$\", fontsize=15)\n",
    "plt.ylabel(\"$z_2$\", fontsize=15)\n",
    "plt.title(\"Recovered data points\", fontsize=15)\n",
    "plt.show()"
   ]
  },
  {
   "cell_type": "code",
   "execution_count": null,
   "metadata": {
    "colab": {
     "base_uri": "https://localhost:8080/",
     "height": 54
    },
    "id": "S9Agx8mUiS2Q",
    "outputId": "589c4e1d-d096-42e9-b3f5-bdce9e31470e",
    "pycharm": {
     "name": "#%%\n"
    }
   },
   "outputs": [
    {
     "output_type": "display_data",
     "data": {
      "text/plain": [
       "<Figure size 360x360 with 1 Axes>"
      ],
      "image/png": "[encoded data removed]"
     },
     "metadata": {
      "needs_background": "light"
     }
    }
   ],
   "source": [
    "import matplotlib.pyplot as plt\n",
    "from sklearn.datasets import make_moons\n",
    "\n",
    "X, y = make_moons(n_samples=500, noise=0.03, random_state=42)\n",
    "plt.figure(figsize=(5,5))\n",
    "sc = StandardScaler()\n",
    "scaled_X = sc.fit_transform(X)\n",
    "plt.xlabel(\"$z_1$\", fontsize=15)\n",
    "plt.ylabel(\"$z_2$\", fontsize=15)\n",
    "plt.xlim(-2,2)\n",
    "plt.ylim(-2,2)\n",
    "plt.scatter(scaled_X[:,0], scaled_X[:,1], c=y, cmap=\"bwr_r\")\n",
    "plt.show()"
   ]
  },
  {
   "cell_type": "code",
   "source": [
    "xs = np.linspace(-5, 5, 100)\n",
    "ys = -xs\n",
    "X, y = make_moons(n_samples=500, noise=0.03, random_state=42)\n",
    "plt.figure(figsize=(5,5))\n",
    "sc = StandardScaler()\n",
    "scaled_X = sc.fit_transform(X)\n",
    "plt.xlabel(\"$z_1$\", fontsize=15)\n",
    "plt.ylabel(\"$z_2$\", fontsize=15)\n",
    "plt.xlim(-2,2)\n",
    "plt.ylim(-2,2)\n",
    "plt.plot(xs, ys, color=\"green\")\n",
    "plt.scatter(scaled_X[:,0], scaled_X[:,1], c=y, cmap=\"bwr_r\")\n",
    "plt.show()"
   ],
   "metadata": {
    "colab": {
     "base_uri": "https://localhost:8080/",
     "height": 54
    },
    "id": "O0jmoOBAjPUq",
    "outputId": "763cea79-8564-4142-c190-b7373f97d2cc",
    "pycharm": {
     "name": "#%%\n"
    }
   },
   "execution_count": null,
   "outputs": [
    {
     "output_type": "display_data",
     "data": {
      "text/plain": [
       "<Figure size 360x360 with 1 Axes>"
      ],
      "image/png": "[encoded data removed]"
     },
     "metadata": {
      "needs_background": "light"
     }
    }
   ]
  },
  {
   "cell_type": "code",
   "execution_count": null,
   "metadata": {
    "colab": {
     "base_uri": "https://localhost:8080/",
     "height": 54
    },
    "id": "qb3uI83siS2Q",
    "outputId": "13693c12-0df5-4044-926e-fcccadf28d55",
    "pycharm": {
     "name": "#%%\n"
    }
   },
   "outputs": [
    {
     "output_type": "display_data",
     "data": {
      "text/plain": [
       "<Figure size 360x288 with 1 Axes>"
      ],
      "image/png": "[encoded data removed]"
     },
     "metadata": {
      "needs_background": "light"
     }
    }
   ],
   "source": [
    "from sklearn.decomposition import PCA\n",
    "pca = PCA(n_components=1)\n",
    "X_pca = pca.fit_transform(scaled_X)\n",
    "plt.figure(figsize=(5,4))\n",
    "plt.scatter(X_pca[:,0], np.zeros_like(X_pca[:,0]), c=y, cmap=\"bwr_r\", alpha=0.2)\n",
    "plt.xlabel(\"PC1\", fontsize=15)\n",
    "plt.show()"
   ]
  },
  {
   "cell_type": "code",
   "execution_count": null,
   "metadata": {
    "colab": {
     "base_uri": "https://localhost:8080/",
     "height": 54
    },
    "id": "6AUWROpuiS2Q",
    "outputId": "1eef9d7d-160d-4a9c-cac6-53374d3e7119",
    "pycharm": {
     "name": "#%%\n"
    }
   },
   "outputs": [
    {
     "output_type": "display_data",
     "data": {
      "text/plain": [
       "<Figure size 360x288 with 1 Axes>"
      ],
      "image/png": "[encoded data removed]"
     },
     "metadata": {
      "needs_background": "light"
     }
    }
   ],
   "source": [
    "recovered_standardized = np.dot(X_pca, pca.components_[:1])\n",
    "plt.figure(figsize=(5,4))\n",
    "plt.scatter(recovered_standardized[:,0], recovered_standardized[:,0], c=y, cmap=\"bwr_r\", alpha=0.2)\n",
    "plt.xlabel(\"$z_1$\", fontsize=15)\n",
    "plt.ylabel(\"$z_2$\", fontsize=15)\n",
    "plt.title(\"Recovered data points\", fontsize=15)\n",
    "plt.show()"
   ]
  },
  {
   "cell_type": "code",
   "execution_count": null,
   "metadata": {
    "colab": {
     "base_uri": "https://localhost:8080/"
    },
    "id": "f1RZXqejiS2Q",
    "outputId": "96055522-fb7f-4721-c182-3c67a4f87c14",
    "pycharm": {
     "name": "#%%\n"
    }
   },
   "outputs": [
    {
     "output_type": "execute_result",
     "data": {
      "text/plain": [
       "array([[-0.70710678,  0.70710678]])"
      ]
     },
     "metadata": {},
     "execution_count": 81
    }
   ],
   "source": [
    "pca.components_"
   ]
  },
  {
   "cell_type": "code",
   "execution_count": null,
   "metadata": {
    "colab": {
     "base_uri": "https://localhost:8080/"
    },
    "id": "9lp8PfnWiS2R",
    "outputId": "9284841b-abda-4e50-b367-6678157e8cdb",
    "pycharm": {
     "name": "#%%\n"
    }
   },
   "outputs": [
    {
     "output_type": "execute_result",
     "data": {
      "text/plain": [
       "array([0.72348851])"
      ]
     },
     "metadata": {},
     "execution_count": 82
    }
   ],
   "source": [
    "pca.explained_variance_ratio_"
   ]
  },
  {
   "cell_type": "code",
   "execution_count": null,
   "metadata": {
    "id": "ixEiBwYyiS2R",
    "pycharm": {
     "name": "#%%\n"
    }
   },
   "outputs": [],
   "source": []
  }
 ],
 "metadata": {
  "kernelspec": {
   "display_name": "Python 3 (ipykernel)",
   "language": "python",
   "name": "python3"
  },
  "language_info": {
   "codemirror_mode": {
    "name": "ipython",
    "version": 3
   },
   "file_extension": ".py",
   "mimetype": "text/x-python",
   "name": "python",
   "nbconvert_exporter": "python",
   "pygments_lexer": "ipython3",
   "version": "3.9.6"
  },
  "colab": {
   "name": "Principal Component Analysis (PCA).ipynb",
   "provenance": [],
   "collapsed_sections": [
    "9tWIJHkhiS2I",
    "xGsdPf2niS2K",
    "V3bH55BViS2K",
    "KvkweObyiS2L",
    "pMbW-P4EiS2M",
    "JxfvkopSiS2P"
   ]
  }
 },
 "nbformat": 4,
 "nbformat_minor": 0
}